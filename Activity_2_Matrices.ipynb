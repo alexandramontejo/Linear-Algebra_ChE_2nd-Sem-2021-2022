{
  "nbformat": 4,
  "nbformat_minor": 0,
  "metadata": {
    "colab": {
      "name": "Activity 2 Matrices",
      "provenance": [],
      "collapsed_sections": [],
      "authorship_tag": "ABX9TyO9SOeS89I17MUFwqllXzrF",
      "include_colab_link": true
    },
    "kernelspec": {
      "name": "python3",
      "display_name": "Python 3"
    },
    "language_info": {
      "name": "python"
    }
  },
  "cells": [
    {
      "cell_type": "markdown",
      "metadata": {
        "id": "view-in-github",
        "colab_type": "text"
      },
      "source": [
        "<a href=\"https://colab.research.google.com/github/alexandramontejo/Linear-Algebra_ChE_2nd-Sem-2021-2022/blob/main/Activity_2_Matrices.ipynb\" target=\"_parent\"><img src=\"https://colab.research.google.com/assets/colab-badge.svg\" alt=\"Open In Colab\"/></a>"
      ]
    },
    {
      "cell_type": "markdown",
      "source": [
        "#Linear ALgebra for ChE\n",
        "## Assigment : Matrices\n",
        "Now that you have a fundamental knowledge about Python, we'll try to look into greater dimensions."
      ],
      "metadata": {
        "id": "k0YbtDpdKgwc"
      }
    },
    {
      "cell_type": "markdown",
      "source": [
        "### Objectives\n",
        "At the end of this activity you will be able to:\n",
        "1. Be familiar with matrices and their relation to linear equations.\n",
        "2. Perform basic matrix operations.\n",
        "3. Program and translate matrix equations and operations using Python.\n"
      ],
      "metadata": {
        "id": "mjUvy_rHKpRP"
      }
    },
    {
      "cell_type": "markdown",
      "source": [
        "#Discussion"
      ],
      "metadata": {
        "id": "ilXyRZkoKy2k"
      }
    },
    {
      "cell_type": "code",
      "source": [
        "import numpy as np\n",
        "import matplotlib.pyplot as plt\n",
        "import scipy.linalg as la\n",
        "%matplotlib inline\n"
      ],
      "metadata": {
        "id": "wKMeW6ABK1vK"
      },
      "execution_count": 1,
      "outputs": []
    },
    {
      "cell_type": "markdown",
      "source": [
        "###Matrices\n",
        "The notation and use of matrices is probably one of the fundamentals of modern computing. Matrices are also handy representations of complex equations or multiple inter-related equations from 2-dimensional equations to even hundreds and thousands of them.\n",
        "\n",
        "Let's say for example you have A and B as system of equation."
      ],
      "metadata": {
        "id": "av9ok8ZbLIEp"
      }
    },
    {
      "cell_type": "markdown",
      "source": [
        "$$\n",
        "A = \\left\\{\n",
        "    \\begin{array}\\\n",
        "        x + y \\\\ \n",
        "        4x - 10y\n",
        "    \\end{array}\n",
        "\\right. \\\\\n",
        "B = \\left\\{\n",
        "    \\begin{array}\\\n",
        "        x+y+z \\\\ \n",
        "        3x -2y -z \\\\\n",
        "        -x + 4y +2z\n",
        "    \\end{array}\n",
        "\\right. \\\\\n",
        "C = \\left\\{\n",
        "    \\begin{array}\\\n",
        "      w-2x+3y-4z \\\\\n",
        "      3w-x-2y+z \\\\\n",
        "      2w -x+3y-2z\n",
        "    \\end{array}\n",
        "\\right.\n",
        "$$"
      ],
      "metadata": {
        "id": "TyQJ90XnL7-F"
      }
    },
    {
      "cell_type": "markdown",
      "source": [
        "We could see that A is a system of 2 equations with 2 parameters. While B isa a system of 3 equations with 3 parameters. We can represent them as matrices as:"
      ],
      "metadata": {
        "id": "3_652VzIONoo"
      }
    },
    {
      "cell_type": "markdown",
      "source": [
        "$$\n",
        "A=\\begin{bmatrix} 1 & 1 \\\\ 4 & {-10}\\end{bmatrix} \\\\\n",
        "B=\\begin{bmatrix} 1 & 1 & 1 \\\\ 3 & -2 & -1 \\\\ -1 & 4 & 2\\end{bmatrix}\\\\\n",
        "C = \\begin{bmatrix} 1& -2 & 3 & -4 \\\\ 3 & -1 & -2 & 1 \\\\ 2 & -1 & 3 & -2\\end{bmatrix}\n",
        "$$\n"
      ],
      "metadata": {
        "id": "85PZ-GAgON0m"
      }
    },
    {
      "cell_type": "markdown",
      "source": [
        "Just like our previous laboratory activity, we'll represent system of lienar equations as a matrix. The entities or numbers in matrices are called the elements of a matrix. These elements are arranged and ordered in rows and columns which form the list/array-like structures of matrices. And just like arrays, these elements are indezed according their position with respect to their rows and columns. This can be represented just like the equation below. Whereas A is a matrix consisting of elements denoted by aij. Denoted by i is the number of rows in the matrix while j stands for the numner of columns. Do note that the size of a matrix is i x j."
      ],
      "metadata": {
        "id": "nN41_eWkPT4W"
      }
    },
    {
      "cell_type": "markdown",
      "source": [
        "#Declaring Matrices\n",
        "We already gone over some of the types of matrices as vectors byt we'll further discuss them in this laboratory activity."
      ],
      "metadata": {
        "id": "Z7jZH1drPVT4"
      }
    },
    {
      "cell_type": "markdown",
      "source": [
        "$$A=\\begin{bmatrix}\n",
        "a_{(0,0)}&a_{(0,1)}&\\dots&a_{(0,j-1)}\\\\\n",
        "a_{(1,0)}&a_{(1,1)}&\\dots&a_{(1,j-1)}\\\\\n",
        "\\vdots&\\vdots&\\ddots&\\vdots&\\\\\n",
        "a_{(i-1,0)}&a_{(i-1,1)}&\\dots&a_{(i-1,j-1)}\n",
        "\\end{bmatrix}\n",
        "$$\n"
      ],
      "metadata": {
        "id": "xDYX6cApQXbY"
      }
    },
    {
      "cell_type": "code",
      "source": [
        "## Since we'll keep on describing matrices; let's make a function.\n",
        "def describe_mat(matrix):\n",
        "    print(f'Matrix:\\n{matrix}\\n\\nShape:\\t{matrix.shape}\\nRank:\\t{matrix.ndim}\\n')\n"
      ],
      "metadata": {
        "id": "XMzoMwDkQbsp"
      },
      "execution_count": 2,
      "outputs": []
    },
    {
      "cell_type": "code",
      "source": [
        "## Declaring a 2x2 matrix\n",
        "A = np.array([\n",
        "    [1, 2],\n",
        "    [3, 1]\n",
        "])\n",
        "describe_mat(A)"
      ],
      "metadata": {
        "colab": {
          "base_uri": "https://localhost:8080/"
        },
        "id": "Mva1CfSCQx6A",
        "outputId": "107aca73-d929-4b02-f76b-bde8792b152a"
      },
      "execution_count": 3,
      "outputs": [
        {
          "output_type": "stream",
          "name": "stdout",
          "text": [
            "Matrix:\n",
            "[[1 2]\n",
            " [3 1]]\n",
            "\n",
            "Shape:\t(2, 2)\n",
            "Rank:\t2\n",
            "\n"
          ]
        }
      ]
    },
    {
      "cell_type": "code",
      "source": [
        "G = np.array([\n",
        "    [1,1,3],\n",
        "    [2,2,4]\n",
        "])\n",
        "describe_mat(G)\n"
      ],
      "metadata": {
        "colab": {
          "base_uri": "https://localhost:8080/"
        },
        "id": "vx7sIXZzSKUd",
        "outputId": "b9fac3c4-11c8-4e05-8c7d-e0acb4b62060"
      },
      "execution_count": 4,
      "outputs": [
        {
          "output_type": "stream",
          "name": "stdout",
          "text": [
            "Matrix:\n",
            "[[1 1 3]\n",
            " [2 2 4]]\n",
            "\n",
            "Shape:\t(2, 3)\n",
            "Rank:\t2\n",
            "\n"
          ]
        }
      ]
    },
    {
      "cell_type": "code",
      "source": [
        "## Declaring 3x2 matrix\n",
        "B = np.array([\n",
        "    [8, 2],\n",
        "    [5, 4],\n",
        "    [1, 1]\n",
        "])\n",
        "describe_mat(B)\n"
      ],
      "metadata": {
        "colab": {
          "base_uri": "https://localhost:8080/"
        },
        "id": "0s2O5GrsSZWr",
        "outputId": "58a2dfc5-74f4-4584-e261-9d1428a93361"
      },
      "execution_count": 5,
      "outputs": [
        {
          "output_type": "stream",
          "name": "stdout",
          "text": [
            "Matrix:\n",
            "[[8 2]\n",
            " [5 4]\n",
            " [1 1]]\n",
            "\n",
            "Shape:\t(3, 2)\n",
            "Rank:\t2\n",
            "\n"
          ]
        }
      ]
    },
    {
      "cell_type": "code",
      "source": [
        "H = np.array([1,2,3,4])\n",
        "describe_mat(H)\n"
      ],
      "metadata": {
        "colab": {
          "base_uri": "https://localhost:8080/"
        },
        "id": "CeBNXUP_SjFp",
        "outputId": "86004c6d-97d7-476c-9d6b-ab16d6acf5c5"
      },
      "execution_count": 6,
      "outputs": [
        {
          "output_type": "stream",
          "name": "stdout",
          "text": [
            "Matrix:\n",
            "[1 2 3 4]\n",
            "\n",
            "Shape:\t(4,)\n",
            "Rank:\t1\n",
            "\n"
          ]
        }
      ]
    },
    {
      "cell_type": "markdown",
      "source": [
        "#Categorizing Matrices\n",
        "There are several ways of classifying matrices..."
      ],
      "metadata": {
        "id": "Jre-DRAHTRTu"
      }
    },
    {
      "cell_type": "markdown",
      "source": [
        "###According to shape"
      ],
      "metadata": {
        "id": "amBWg6DGTXm4"
      }
    },
    {
      "cell_type": "markdown",
      "source": [
        "###Row and Column Matrices"
      ],
      "metadata": {
        "id": "FwJPINr1TchQ"
      }
    },
    {
      "cell_type": "code",
      "source": [
        "## Declaring a Row Matrix\n",
        "rowmatrix1D = np.array([\n",
        "    1, 3, 2, -4\n",
        "]) ## this is a 1-D Matrix with a shape of (3,), it's not really considered as a row matrix.\n",
        "row_mat_2D = np.array([\n",
        "    [1,2,3, -4]\n",
        "]) ## this is a 2-D Matrix with a shape of (1,3)\n",
        "describe_mat(rowmatrix1D)\n",
        "describe_mat(row_mat_2D)\n"
      ],
      "metadata": {
        "colab": {
          "base_uri": "https://localhost:8080/"
        },
        "id": "2FmV1ERCT3t2",
        "outputId": "0eb605f7-617c-4bb3-933c-c7b271a7a255"
      },
      "execution_count": 7,
      "outputs": [
        {
          "output_type": "stream",
          "name": "stdout",
          "text": [
            "Matrix:\n",
            "[ 1  3  2 -4]\n",
            "\n",
            "Shape:\t(4,)\n",
            "Rank:\t1\n",
            "\n",
            "Matrix:\n",
            "[[ 1  2  3 -4]]\n",
            "\n",
            "Shape:\t(1, 4)\n",
            "Rank:\t2\n",
            "\n"
          ]
        }
      ]
    },
    {
      "cell_type": "code",
      "source": [
        "## Declaring a column matrix\n",
        "col_mat = np.array([\n",
        "    [15],\n",
        "    [7],\n",
        "    [30]\n",
        "]) ## this is a 2-D Matrix with a shape of (3,1)\n",
        "describe_mat(col_mat)\n"
      ],
      "metadata": {
        "colab": {
          "base_uri": "https://localhost:8080/"
        },
        "id": "2LG5y8YkUius",
        "outputId": "938412b2-88ab-4ace-af71-a65b4bad8ff2"
      },
      "execution_count": 8,
      "outputs": [
        {
          "output_type": "stream",
          "name": "stdout",
          "text": [
            "Matrix:\n",
            "[[15]\n",
            " [ 7]\n",
            " [30]]\n",
            "\n",
            "Shape:\t(3, 1)\n",
            "Rank:\t2\n",
            "\n"
          ]
        }
      ]
    },
    {
      "cell_type": "markdown",
      "source": [
        "###Square Matrix\n",
        "Matrices that have the same row and column sizes. We could say a matrix is square if i = j. We can tweak our matrix descriptor function to determine square matrices."
      ],
      "metadata": {
        "id": "jfdSUKI3VL5G"
      }
    },
    {
      "cell_type": "code",
      "source": [
        "def describe_mat(matrix):\n",
        "    is_square = True if matrix.shape[0] == matrix.shape[1] else False \n",
        "    print(f'Matrix:\\n{matrix}\\n\\nShape:\\t{matrix.shape}\\nRank:\\t{matrix.ndim}\\nIs Square: {is_square}\\n')\n"
      ],
      "metadata": {
        "id": "TANAHR1RVPz5"
      },
      "execution_count": 9,
      "outputs": []
    },
    {
      "cell_type": "code",
      "source": [
        "square_mat = np.array([\n",
        "    [15,7,11],\n",
        "    [13,63,98],\n",
        "    [56,17,21]\n",
        "])\n",
        "\n",
        "non_square_mat = np.array([\n",
        "    [16,72,50],\n",
        "    [13,39,84]\n",
        "])\n",
        "describe_mat(square_mat)\n",
        "describe_mat(non_square_mat)\n"
      ],
      "metadata": {
        "colab": {
          "base_uri": "https://localhost:8080/"
        },
        "id": "OS9Y00J6VehR",
        "outputId": "2f9a7e89-38ea-4df2-f7e0-0b1533b797fd"
      },
      "execution_count": 10,
      "outputs": [
        {
          "output_type": "stream",
          "name": "stdout",
          "text": [
            "Matrix:\n",
            "[[15  7 11]\n",
            " [13 63 98]\n",
            " [56 17 21]]\n",
            "\n",
            "Shape:\t(3, 3)\n",
            "Rank:\t2\n",
            "Is Square: True\n",
            "\n",
            "Matrix:\n",
            "[[16 72 50]\n",
            " [13 39 84]]\n",
            "\n",
            "Shape:\t(2, 3)\n",
            "Rank:\t2\n",
            "Is Square: False\n",
            "\n"
          ]
        }
      ]
    },
    {
      "cell_type": "markdown",
      "source": [
        "##According to element values"
      ],
      "metadata": {
        "id": "NKIYmfAqWJlH"
      }
    },
    {
      "cell_type": "markdown",
      "source": [
        "###Null Matrix\n",
        "A Null Matrix is a matrix that has no elements. Its always a subspace of any vector or matrix"
      ],
      "metadata": {
        "id": "rFDGKKasWNFJ"
      }
    },
    {
      "cell_type": "markdown",
      "source": [
        "lorem ipsum"
      ],
      "metadata": {
        "id": "rgyyY7rWWPDj"
      }
    },
    {
      "cell_type": "code",
      "source": [
        "def describe_mat(matrix):\n",
        "    if matrix.size > 0:\n",
        "        is_square = True if matrix.shape[0] == matrix.shape[1] else False \n",
        "        print(f'Matrix:\\n{matrix}\\n\\nShape:\\t{matrix.shape}\\nRank:\\t{matrix.ndim}\\nIs Square: {is_square}\\n')\n",
        "    else:\n",
        "        print('Matrix is Null')\n"
      ],
      "metadata": {
        "id": "o1MZfzhHWTwC"
      },
      "execution_count": 11,
      "outputs": []
    },
    {
      "cell_type": "code",
      "source": [
        "## null[]\n",
        "null_mat = np.array([[0]])\n",
        "describe_mat(null_mat)\n"
      ],
      "metadata": {
        "colab": {
          "base_uri": "https://localhost:8080/"
        },
        "id": "CK02f5b3WVWP",
        "outputId": "6c291032-11d6-4514-a1d2-fba3111766c3"
      },
      "execution_count": 12,
      "outputs": [
        {
          "output_type": "stream",
          "name": "stdout",
          "text": [
            "Matrix:\n",
            "[[0]]\n",
            "\n",
            "Shape:\t(1, 1)\n",
            "Rank:\t2\n",
            "Is Square: True\n",
            "\n"
          ]
        }
      ]
    },
    {
      "cell_type": "markdown",
      "source": [
        "###Zero Matrix\n",
        "A zero matrix can be any rectangular matrix but with all elements having a value of 0."
      ],
      "metadata": {
        "id": "4nuzbyexWW1_"
      }
    },
    {
      "cell_type": "code",
      "source": [
        "zero_mat_row = np.zeros((1,2))\n",
        "zero_mat_sqr = np.zeros((2,2))\n",
        "zero_mat_rct = np.zeros((3,2))\n",
        "\n",
        "print(f'Zero Row Matrix: \\n{zero_mat_row}')\n",
        "print(f'Zero Square Matrix: \\n{zero_mat_sqr}')\n",
        "print(f'Zero Rectangular Matrix: \\n{zero_mat_rct}')\n"
      ],
      "metadata": {
        "colab": {
          "base_uri": "https://localhost:8080/"
        },
        "id": "HS0Y9CWsXO7b",
        "outputId": "c95c278b-bf70-4eb1-b7e4-1e84f6e54e0c"
      },
      "execution_count": 13,
      "outputs": [
        {
          "output_type": "stream",
          "name": "stdout",
          "text": [
            "Zero Row Matrix: \n",
            "[[0. 0.]]\n",
            "Zero Square Matrix: \n",
            "[[0. 0.]\n",
            " [0. 0.]]\n",
            "Zero Rectangular Matrix: \n",
            "[[0. 0.]\n",
            " [0. 0.]\n",
            " [0. 0.]]\n"
          ]
        }
      ]
    },
    {
      "cell_type": "markdown",
      "source": [
        "##Ones Matrix\n",
        "Just like the zero matrix, ones matrix can be any rectangular matrix but all of its elements are 1s instead of 0s."
      ],
      "metadata": {
        "id": "pBGIImNoXmLo"
      }
    },
    {
      "cell_type": "markdown",
      "source": [
        "lorem ipsum"
      ],
      "metadata": {
        "id": "EqzYiibkXo8j"
      }
    },
    {
      "cell_type": "code",
      "source": [
        "ones_mat_row = np.ones((1,2))\n",
        "ones_mat_sqr = np.ones((2,2))\n",
        "ones_mat_rct = np.ones((3,2))\n",
        "\n",
        "print(f'Ones Row Matrix: \\n{ones_mat_row}')\n",
        "print(f'Ones Square Matrix: \\n{ones_mat_sqr}')\n",
        "print(f'Ones Rectangular Matrix: \\n{ones_mat_rct}')\n"
      ],
      "metadata": {
        "colab": {
          "base_uri": "https://localhost:8080/"
        },
        "id": "P4ZiXtBWXqDk",
        "outputId": "81979ce8-6aa2-44d5-9fac-8e4cb9a8130b"
      },
      "execution_count": 14,
      "outputs": [
        {
          "output_type": "stream",
          "name": "stdout",
          "text": [
            "Ones Row Matrix: \n",
            "[[1. 1.]]\n",
            "Ones Square Matrix: \n",
            "[[1. 1.]\n",
            " [1. 1.]]\n",
            "Ones Rectangular Matrix: \n",
            "[[1. 1.]\n",
            " [1. 1.]\n",
            " [1. 1.]]\n"
          ]
        }
      ]
    },
    {
      "cell_type": "markdown",
      "source": [
        "###Diagonal Matrix\n",
        "A diagonal matrix is a square matrix that has values only at the diagonal of the matrix."
      ],
      "metadata": {
        "id": "mTohJFCAX5Al"
      }
    },
    {
      "cell_type": "code",
      "source": [
        "np.array([\n",
        "    [2,0,0],\n",
        "    [0,3,0],\n",
        "    [0,0,5]\n",
        "])\n"
      ],
      "metadata": {
        "colab": {
          "base_uri": "https://localhost:8080/"
        },
        "id": "AE8yixX_X7wU",
        "outputId": "d3d5bbd7-d4cf-480d-a864-8ec1e73096ae"
      },
      "execution_count": 15,
      "outputs": [
        {
          "output_type": "execute_result",
          "data": {
            "text/plain": [
              "array([[2, 0, 0],\n",
              "       [0, 3, 0],\n",
              "       [0, 0, 5]])"
            ]
          },
          "metadata": {},
          "execution_count": 15
        }
      ]
    },
    {
      "cell_type": "code",
      "source": [
        "d = np.diag([12,53,15,27])\n",
        "#d.shape[0] == d.shape[1]\n",
        "d"
      ],
      "metadata": {
        "colab": {
          "base_uri": "https://localhost:8080/"
        },
        "id": "kn9HHZSSYA0p",
        "outputId": "ff0612cc-627f-4226-c468-15d3450b823b"
      },
      "execution_count": 16,
      "outputs": [
        {
          "output_type": "execute_result",
          "data": {
            "text/plain": [
              "array([[12,  0,  0,  0],\n",
              "       [ 0, 53,  0,  0],\n",
              "       [ 0,  0, 15,  0],\n",
              "       [ 0,  0,  0, 27]])"
            ]
          },
          "metadata": {},
          "execution_count": 16
        }
      ]
    },
    {
      "cell_type": "markdown",
      "source": [
        "###Identity Matrix\n",
        "An identity matrix is a special diagonal matrix in which the values at the diagonal are ones."
      ],
      "metadata": {
        "id": "BlB_kEOzYtBm"
      }
    },
    {
      "cell_type": "code",
      "source": [
        "np.eye(3)"
      ],
      "metadata": {
        "colab": {
          "base_uri": "https://localhost:8080/"
        },
        "id": "OkQXGPf5YvVJ",
        "outputId": "50d155f5-b74f-40ff-f9d8-490eaf0dfce2"
      },
      "execution_count": 17,
      "outputs": [
        {
          "output_type": "execute_result",
          "data": {
            "text/plain": [
              "array([[1., 0., 0.],\n",
              "       [0., 1., 0.],\n",
              "       [0., 0., 1.]])"
            ]
          },
          "metadata": {},
          "execution_count": 17
        }
      ]
    },
    {
      "cell_type": "code",
      "source": [
        "np.identity(7)"
      ],
      "metadata": {
        "colab": {
          "base_uri": "https://localhost:8080/"
        },
        "id": "VvwlAKMJY-Nc",
        "outputId": "736c0166-b239-4057-f0cb-14190f1307ee"
      },
      "execution_count": 18,
      "outputs": [
        {
          "output_type": "execute_result",
          "data": {
            "text/plain": [
              "array([[1., 0., 0., 0., 0., 0., 0.],\n",
              "       [0., 1., 0., 0., 0., 0., 0.],\n",
              "       [0., 0., 1., 0., 0., 0., 0.],\n",
              "       [0., 0., 0., 1., 0., 0., 0.],\n",
              "       [0., 0., 0., 0., 1., 0., 0.],\n",
              "       [0., 0., 0., 0., 0., 1., 0.],\n",
              "       [0., 0., 0., 0., 0., 0., 1.]])"
            ]
          },
          "metadata": {},
          "execution_count": 18
        }
      ]
    },
    {
      "cell_type": "markdown",
      "source": [
        "##Upper Triangular Matrix\n",
        "An upper triangular matrix is a matrix that has no values below the diagonal."
      ],
      "metadata": {
        "id": "kqfI2HvWZOj8"
      }
    },
    {
      "cell_type": "code",
      "source": [
        "np.array([\n",
        "   [1,2,3,4],\n",
        "   [0,3,1,-1],\n",
        "   [0.0,5,2],\n",
        "   [0,0,0,2]\n",
        "])"
      ],
      "metadata": {
        "colab": {
          "base_uri": "https://localhost:8080/"
        },
        "id": "z2cgSSqHZSGZ",
        "outputId": "3e6b2ce5-949b-445b-d652-949ca9758503"
      },
      "execution_count": 19,
      "outputs": [
        {
          "output_type": "stream",
          "name": "stderr",
          "text": [
            "/usr/local/lib/python3.7/dist-packages/ipykernel_launcher.py:5: VisibleDeprecationWarning: Creating an ndarray from ragged nested sequences (which is a list-or-tuple of lists-or-tuples-or ndarrays with different lengths or shapes) is deprecated. If you meant to do this, you must specify 'dtype=object' when creating the ndarray.\n",
            "  \"\"\"\n"
          ]
        },
        {
          "output_type": "execute_result",
          "data": {
            "text/plain": [
              "array([list([1, 2, 3, 4]), list([0, 3, 1, -1]), list([0.0, 5, 2]),\n",
              "       list([0, 0, 0, 2])], dtype=object)"
            ]
          },
          "metadata": {},
          "execution_count": 19
        }
      ]
    },
    {
      "cell_type": "code",
      "source": [
        "F = np.array([\n",
        "              [2, -3, 4, -5, 6],\n",
        "              [2, -3, 4, -5, 6],\n",
        "              [2, -3, 4, -5, 6],\n",
        "              [2, -3, 4, -5, 6],\n",
        "              [2, -3, 4, -5, 6],\n",
        "])\n",
        "np.triu(F)\n"
      ],
      "metadata": {
        "colab": {
          "base_uri": "https://localhost:8080/"
        },
        "id": "_n0ZivakZpKW",
        "outputId": "97d74844-6963-41df-dc85-f65cf4dc31ae"
      },
      "execution_count": 20,
      "outputs": [
        {
          "output_type": "execute_result",
          "data": {
            "text/plain": [
              "array([[ 2, -3,  4, -5,  6],\n",
              "       [ 0, -3,  4, -5,  6],\n",
              "       [ 0,  0,  4, -5,  6],\n",
              "       [ 0,  0,  0, -5,  6],\n",
              "       [ 0,  0,  0,  0,  6]])"
            ]
          },
          "metadata": {},
          "execution_count": 20
        }
      ]
    },
    {
      "cell_type": "markdown",
      "source": [
        "##Lower Triangular Matrix"
      ],
      "metadata": {
        "id": "UDzOomTAaM_K"
      }
    },
    {
      "cell_type": "code",
      "source": [
        "np.tril(F)"
      ],
      "metadata": {
        "colab": {
          "base_uri": "https://localhost:8080/"
        },
        "id": "7AnFAjKAaSC8",
        "outputId": "d197ac3e-fb86-4598-8fc9-e1cf2d87d8ff"
      },
      "execution_count": 21,
      "outputs": [
        {
          "output_type": "execute_result",
          "data": {
            "text/plain": [
              "array([[ 2,  0,  0,  0,  0],\n",
              "       [ 2, -3,  0,  0,  0],\n",
              "       [ 2, -3,  4,  0,  0],\n",
              "       [ 2, -3,  4, -5,  0],\n",
              "       [ 2, -3,  4, -5,  6]])"
            ]
          },
          "metadata": {},
          "execution_count": 21
        }
      ]
    },
    {
      "cell_type": "code",
      "source": [
        "np.array([\n",
        "    [17,0,0],\n",
        "    [85,23,0],\n",
        "    [9,18,55]\n",
        "])"
      ],
      "metadata": {
        "colab": {
          "base_uri": "https://localhost:8080/"
        },
        "id": "HateI8-maWms",
        "outputId": "cb6cb3d6-09d4-4255-b58b-9e399a40bedd"
      },
      "execution_count": 22,
      "outputs": [
        {
          "output_type": "execute_result",
          "data": {
            "text/plain": [
              "array([[17,  0,  0],\n",
              "       [85, 23,  0],\n",
              "       [ 9, 18, 55]])"
            ]
          },
          "metadata": {},
          "execution_count": 22
        }
      ]
    },
    {
      "cell_type": "markdown",
      "source": [
        "#Practice"
      ],
      "metadata": {
        "id": "eBq411Lxa89o"
      }
    },
    {
      "cell_type": "markdown",
      "source": [
        "1. Given the linear combination below, try to create a corresponding matrix representing it.\n"
      ],
      "metadata": {
        "id": "EdoFOUsCa-bb"
      }
    },
    {
      "cell_type": "markdown",
      "source": [
        ":$$\\theta = 5x + 3y - z$$\n"
      ],
      "metadata": {
        "id": "gxOLZM5IbGRu"
      }
    },
    {
      "cell_type": "code",
      "source": [
        ""
      ],
      "metadata": {
        "id": "gadO8H_DcXqn"
      },
      "execution_count": null,
      "outputs": []
    },
    {
      "cell_type": "code",
      "source": [
        "num_1 = np.array([\n",
        "    [5,3,-1],\n",
        "])\n",
        "print (num_1)"
      ],
      "metadata": {
        "colab": {
          "base_uri": "https://localhost:8080/"
        },
        "id": "GjaZnzIYRlVu",
        "outputId": "3b50c063-2dc7-4f54-cdb2-58d3cb9298fa"
      },
      "execution_count": null,
      "outputs": [
        {
          "output_type": "stream",
          "name": "stdout",
          "text": [
            "[[ 5  3 -1]]\n"
          ]
        }
      ]
    },
    {
      "cell_type": "markdown",
      "source": [
        "2. Given the system of linear combinations below, try to encode it as a matrix. Also describe the matrix.\n"
      ],
      "metadata": {
        "id": "hqyBEbpPbJY8"
      }
    },
    {
      "cell_type": "markdown",
      "source": [
        "$$\n",
        "A = \\left\\{\\begin{array}\n",
        "5x_1 + 2x_2 +x_3\\\\\n",
        "4x_2 - x_3\\\\\n",
        "10x_3\n",
        "\\end{array}\\right.\n",
        "$$\n"
      ],
      "metadata": {
        "id": "zMymhB_tbLod"
      }
    },
    {
      "cell_type": "code",
      "source": [
        "num_2 = np.array([\n",
        "    [1,2,1],\n",
        "    [0,4,-1],\n",
        "    [0,0,0]\n",
        "])\n",
        "describe_mat(num_2)"
      ],
      "metadata": {
        "colab": {
          "base_uri": "https://localhost:8080/"
        },
        "id": "Pjs-20bMR2pn",
        "outputId": "593cac84-39af-4d79-9bf1-eee38aac213a"
      },
      "execution_count": null,
      "outputs": [
        {
          "output_type": "stream",
          "name": "stdout",
          "text": [
            "Matrix:\n",
            "[[ 1  2  1]\n",
            " [ 0  4 -1]\n",
            " [ 0  0  0]]\n",
            "\n",
            "Shape:\t(3, 3)\n",
            "Rank:\t2\n",
            "Is Square: True\n",
            "\n"
          ]
        }
      ]
    },
    {
      "cell_type": "markdown",
      "source": [
        "3. Given the matrix below, express it as a linear combination in a markdown and a LaTeX markdown\n"
      ],
      "metadata": {
        "id": "CNoHyd7PbNkT"
      }
    },
    {
      "cell_type": "code",
      "source": [
        "G = np.array([\n",
        "    [1,7,8],\n",
        "    [2,2,2],\n",
        "    [4,6,7]\n",
        "])\n"
      ],
      "metadata": {
        "id": "RqhrtcDAbTyY"
      },
      "execution_count": null,
      "outputs": []
    },
    {
      "cell_type": "markdown",
      "source": [
        "Answer\n",
        "\n",
        "Linear combination\n",
        "$$\n",
        "G = \\left\\{\n",
        "    \\begin{array}\\\n",
        "      x_1+7x_2+8x_3 \\\\\n",
        "      2x_1+2x_2-2y_3 \\\\\n",
        "      4x_1 + 6x_2 +7x_3\n",
        "    \\end{array}\n",
        "\\right.\n",
        "$$\n",
        "\n",
        "LaTex\n",
        "$$\n",
        "G=\\begin{bmatrix} 1 & 7 & 8 \\\\ 2 & 2 & 2 \\\\ 4 & 6 & 7\\end{bmatrix}\\\\\n",
        "$$"
      ],
      "metadata": {
        "id": "m9YcCTAqSdiL"
      }
    },
    {
      "cell_type": "markdown",
      "source": [
        "4. Given the matrix below, display the output as a LaTeX markdown also express it as a system of linear combinations.\n"
      ],
      "metadata": {
        "id": "fai-odATbUqX"
      }
    },
    {
      "cell_type": "code",
      "source": [
        "H = np.tril(G)\n",
        "H\n"
      ],
      "metadata": {
        "colab": {
          "base_uri": "https://localhost:8080/"
        },
        "id": "P5h3xS9MbX8s",
        "outputId": "e8c1f8f8-9b7a-4e09-8a2c-1a1690d9ade2"
      },
      "execution_count": null,
      "outputs": [
        {
          "output_type": "execute_result",
          "data": {
            "text/plain": [
              "array([[1, 0, 0],\n",
              "       [2, 2, 0]])"
            ]
          },
          "metadata": {},
          "execution_count": 31
        }
      ]
    },
    {
      "cell_type": "markdown",
      "source": [
        "Answer\n",
        "\n",
        "Linear combination\n",
        "$$\n",
        "H = \\left\\{\n",
        "    \\begin{array}\\\n",
        "      x_1\\\\\n",
        "      2x_1+2x_2\\\\\n",
        "      4x_1 + 6x_2 +7x_3\n",
        "    \\end{array}\n",
        "\\right.\n",
        "$$\n",
        "\n",
        "LaTex\n",
        "$$\n",
        "G=\\begin{bmatrix} 1 & 0 & 0 \\\\ 2 & 2 & 0 \\\\ 4 & 6 & 7\\end{bmatrix}\\\\\n",
        "$$"
      ],
      "metadata": {
        "id": "2QS49teCUFVZ"
      }
    },
    {
      "cell_type": "markdown",
      "source": [
        "###ADDITION\n"
      ],
      "metadata": {
        "id": "12kQBIhvbZeD"
      }
    },
    {
      "cell_type": "code",
      "source": [
        "A = np.array([\n",
        "    [4,6],\n",
        "    [9,7],\n",
        "    [6,3]\n",
        "])\n",
        "B = np.array([\n",
        "    [7,8],\n",
        "    [1,1],\n",
        "    [6,4]\n",
        "])\n",
        "A+B\n"
      ],
      "metadata": {
        "id": "BDFrXx3lbb12",
        "colab": {
          "base_uri": "https://localhost:8080/"
        },
        "outputId": "43412c73-271a-40c9-cc54-cde343302704"
      },
      "execution_count": 23,
      "outputs": [
        {
          "output_type": "execute_result",
          "data": {
            "text/plain": [
              "array([[11, 14],\n",
              "       [10,  8],\n",
              "       [12,  7]])"
            ]
          },
          "metadata": {},
          "execution_count": 23
        }
      ]
    },
    {
      "cell_type": "code",
      "source": [
        "2+A ##Broadcasting\n",
        "# 2*np.ones(A.shape)+A"
      ],
      "metadata": {
        "colab": {
          "base_uri": "https://localhost:8080/"
        },
        "id": "JijHyKVeH71t",
        "outputId": "66608396-23e0-4ee2-a156-e72248fc5681"
      },
      "execution_count": 24,
      "outputs": [
        {
          "output_type": "execute_result",
          "data": {
            "text/plain": [
              "array([[ 6,  8],\n",
              "       [11,  9],\n",
              "       [ 8,  5]])"
            ]
          },
          "metadata": {},
          "execution_count": 24
        }
      ]
    },
    {
      "cell_type": "markdown",
      "source": [
        "###SUBTRACTION\n"
      ],
      "metadata": {
        "id": "QxyJ8UhoH0pX"
      }
    },
    {
      "cell_type": "code",
      "source": [
        "A-B"
      ],
      "metadata": {
        "id": "paaTT2iJG4Zh",
        "colab": {
          "base_uri": "https://localhost:8080/"
        },
        "outputId": "1e3cf4f8-f06c-4103-e31f-cc62c2fee508"
      },
      "execution_count": 25,
      "outputs": [
        {
          "output_type": "execute_result",
          "data": {
            "text/plain": [
              "array([[-3, -2],\n",
              "       [ 8,  6],\n",
              "       [ 0, -1]])"
            ]
          },
          "metadata": {},
          "execution_count": 25
        }
      ]
    },
    {
      "cell_type": "code",
      "source": [
        "3-B == 3*np.ones(B.shape)-B"
      ],
      "metadata": {
        "colab": {
          "base_uri": "https://localhost:8080/"
        },
        "id": "_ulLsk4OIAV9",
        "outputId": "e5f85181-c1ff-46cb-f914-62fc6ab1e482"
      },
      "execution_count": null,
      "outputs": [
        {
          "output_type": "execute_result",
          "data": {
            "text/plain": [
              "array([[ True,  True],\n",
              "       [ True,  True],\n",
              "       [ True,  True]])"
            ]
          },
          "metadata": {},
          "execution_count": 39
        }
      ]
    },
    {
      "cell_type": "markdown",
      "source": [
        "###ELEMENT-WISE MULTIPLICATION"
      ],
      "metadata": {
        "id": "s1JJxD_UIChV"
      }
    },
    {
      "cell_type": "code",
      "source": [
        "A*B\n",
        "np.multiply(A,B)"
      ],
      "metadata": {
        "colab": {
          "base_uri": "https://localhost:8080/"
        },
        "id": "CWIraFwwIFjl",
        "outputId": "1f7115b4-6bc8-4068-859f-01475600dab6"
      },
      "execution_count": 26,
      "outputs": [
        {
          "output_type": "execute_result",
          "data": {
            "text/plain": [
              "array([[28, 48],\n",
              "       [ 9,  7],\n",
              "       [36, 12]])"
            ]
          },
          "metadata": {},
          "execution_count": 26
        }
      ]
    },
    {
      "cell_type": "code",
      "source": [
        "2*A"
      ],
      "metadata": {
        "colab": {
          "base_uri": "https://localhost:8080/"
        },
        "id": "jPoax4qzIKAs",
        "outputId": "f85e2cef-799c-40ca-baef-dfac31c2c3b9"
      },
      "execution_count": 27,
      "outputs": [
        {
          "output_type": "execute_result",
          "data": {
            "text/plain": [
              "array([[ 8, 12],\n",
              "       [18, 14],\n",
              "       [12,  6]])"
            ]
          },
          "metadata": {},
          "execution_count": 27
        }
      ]
    },
    {
      "cell_type": "code",
      "source": [
        "A@B"
      ],
      "metadata": {
        "colab": {
          "base_uri": "https://localhost:8080/",
          "height": 166
        },
        "id": "N2lNYQkOILOU",
        "outputId": "7a2b8837-d120-4b84-a8ad-8a4c3973b40a"
      },
      "execution_count": null,
      "outputs": [
        {
          "output_type": "error",
          "ename": "ValueError",
          "evalue": "ignored",
          "traceback": [
            "\u001b[0;31m---------------------------------------------------------------------------\u001b[0m",
            "\u001b[0;31mValueError\u001b[0m                                Traceback (most recent call last)",
            "\u001b[0;32m<ipython-input-38-5016aafd2858>\u001b[0m in \u001b[0;36m<module>\u001b[0;34m()\u001b[0m\n\u001b[0;32m----> 1\u001b[0;31m \u001b[0mA\u001b[0m\u001b[0;34m@\u001b[0m\u001b[0mB\u001b[0m\u001b[0;34m\u001b[0m\u001b[0;34m\u001b[0m\u001b[0m\n\u001b[0m",
            "\u001b[0;31mValueError\u001b[0m: matmul: Input operand 1 has a mismatch in its core dimension 0, with gufunc signature (n?,k),(k,m?)->(n?,m?) (size 3 is different from 2)"
          ]
        }
      ]
    },
    {
      "cell_type": "code",
      "source": [
        "alpha=10**-10\n",
        "A/(alpha+B)"
      ],
      "metadata": {
        "colab": {
          "base_uri": "https://localhost:8080/"
        },
        "id": "pyn5swPtIRW1",
        "outputId": "ad26aa73-aa1c-44cc-de4e-82469591e94a"
      },
      "execution_count": 28,
      "outputs": [
        {
          "output_type": "execute_result",
          "data": {
            "text/plain": [
              "array([[0.57142857, 0.75      ],\n",
              "       [9.        , 7.        ],\n",
              "       [1.        , 0.75      ]])"
            ]
          },
          "metadata": {},
          "execution_count": 28
        }
      ]
    },
    {
      "cell_type": "code",
      "source": [
        "np.add(A,B)"
      ],
      "metadata": {
        "colab": {
          "base_uri": "https://localhost:8080/"
        },
        "id": "El_hx-eQISyN",
        "outputId": "3027cfd2-fc5b-4171-de1c-7a19ce4d4e58"
      },
      "execution_count": 29,
      "outputs": [
        {
          "output_type": "execute_result",
          "data": {
            "text/plain": [
              "array([[11, 14],\n",
              "       [10,  8],\n",
              "       [12,  7]])"
            ]
          },
          "metadata": {},
          "execution_count": 29
        }
      ]
    },
    {
      "cell_type": "markdown",
      "source": [
        "#Activity"
      ],
      "metadata": {
        "id": "GPnr5MMoIcGO"
      }
    },
    {
      "cell_type": "markdown",
      "source": [
        "##Task 1\n",
        "Create a function named mat_desc() that througouhly describes a matrix, it should:\n",
        "\n",
        "  1. Displays the shape, size, and rank of the matrix.\n",
        "  2. Displays whether the matrix is square or non-square.\n",
        "  3. Displays whether the matrix is an empty matrix.\n",
        "  4. Displays if the matrix is an identity, ones, or zeros matrix\n",
        "\n",
        "Use 5 sample matrices in which their shapes are not lower than (3,3) . In your methodology, create a flowchart discuss the functions and methods you have done. Present your results in the results section showing the description of each matrix you have declared."
      ],
      "metadata": {
        "id": "aZ1COsq1IemX"
      }
    },
    {
      "cell_type": "code",
      "source": [
        "# mat_desc function\n",
        "\n",
        "def mat_desc(mat):\n",
        "  sq = False\n",
        "  mat = np.array(mat)\n",
        "  print(mat)\n",
        "  print('Shape', mat.shape)\n",
        "  print('Size', mat.size)\n",
        "  print('Rank', np.linalg.matrix_rank(mat))\n",
        "  if(mat.shape[0] == mat.shape[1]):\n",
        "    sq = True\n",
        "    print('Square Matrix')\n",
        "  else: \n",
        "    print('Non-Square Matrix')\n",
        "  if(mat.shape[0] == 0 and mat.shape[1] == 0):\n",
        "    print('Empty Matrix')\n",
        "  else:\n",
        "    print('Matrix in not empty')\n",
        "  iden = np.identity(mat.shape[0])\n",
        "  if(sq and (iden == mat).all()):\n",
        "    print('Identity Matrix')\n",
        "  else:\n",
        "    print('Not identity matrix')\n",
        "  one = np.ones((mat.shape[0], mat.shape[1]))\n",
        "  if(one == mat).all ():\n",
        "    print('Ones matrix')\n",
        "  else:\n",
        "    print('Not a Ones Matrix')\n",
        "  zero = np.zeros((mat.shape[0], mat.shape[1]))\n",
        "  if((zero == mat).all()):\n",
        "    print('Zero Matrix')\n",
        "  else:\n",
        "    print('Non-Zero Matrix')"
      ],
      "metadata": {
        "id": "a7ZhuaZoJGmA"
      },
      "execution_count": 30,
      "outputs": []
    },
    {
      "cell_type": "code",
      "source": [
        "print('Matrix A:')\n",
        "mat_desc([\n",
        "    [5,7,8],\n",
        "    [1,3,7],\n",
        "    [7,8,30],\n",
        "    [6,7,17]\n",
        "])\n",
        "print('Matrix B:')\n",
        "mat_desc([\n",
        "    [0,0,0],\n",
        "    [0,0,0],\n",
        "    [0,0,0],\n",
        "    [0,0,0]\n",
        "])\n",
        "print('Matrix C:')\n",
        "mat_desc([\n",
        "    [45,17,58,90],\n",
        "    [40, 86, 87, 76],\n",
        "    [95, 100, 91, 98],\n",
        "    [45, 87, 92, 41],\n",
        "    [76, 98, 70, 45]\n",
        "])\n",
        "print('Matrix D:')\n",
        "mat_desc([\n",
        "    [1,1,1,1,1],\n",
        "    [1,1,1,1,1],\n",
        "    [1,1,1,1,1],\n",
        "    [1,1,1,1,1],\n",
        "    [1,1,1,1,1],\n",
        "    [1,1,1,1,1]\n",
        "])\n",
        "print('Matrix E:')\n",
        "mat_desc([\n",
        "    [0,1,1,1,1],\n",
        "    [1,1,0,1,1],\n",
        "    [1,1,1,0,1],\n",
        "    [1,1,1,1,0],\n",
        "    [1,1,1,0,1],\n",
        "    [1,1,1,1,1]\n",
        "])\n",
        "\n"
      ],
      "metadata": {
        "colab": {
          "base_uri": "https://localhost:8080/"
        },
        "id": "04CxPyVyVM3H",
        "outputId": "14e78bbb-8961-4a8f-b0d7-ed52f466640d"
      },
      "execution_count": 31,
      "outputs": [
        {
          "output_type": "stream",
          "name": "stdout",
          "text": [
            "Matrix A:\n",
            "[[ 5  7  8]\n",
            " [ 1  3  7]\n",
            " [ 7  8 30]\n",
            " [ 6  7 17]]\n",
            "Shape (4, 3)\n",
            "Size 12\n",
            "Rank 3\n",
            "Non-Square Matrix\n",
            "Matrix in not empty\n",
            "Not identity matrix\n",
            "Not a Ones Matrix\n",
            "Non-Zero Matrix\n",
            "Matrix B:\n",
            "[[0 0 0]\n",
            " [0 0 0]\n",
            " [0 0 0]\n",
            " [0 0 0]]\n",
            "Shape (4, 3)\n",
            "Size 12\n",
            "Rank 0\n",
            "Non-Square Matrix\n",
            "Matrix in not empty\n",
            "Not identity matrix\n",
            "Not a Ones Matrix\n",
            "Zero Matrix\n",
            "Matrix C:\n",
            "[[ 45  17  58  90]\n",
            " [ 40  86  87  76]\n",
            " [ 95 100  91  98]\n",
            " [ 45  87  92  41]\n",
            " [ 76  98  70  45]]\n",
            "Shape (5, 4)\n",
            "Size 20\n",
            "Rank 4\n",
            "Non-Square Matrix\n",
            "Matrix in not empty\n",
            "Not identity matrix\n",
            "Not a Ones Matrix\n",
            "Non-Zero Matrix\n",
            "Matrix D:\n",
            "[[1 1 1 1 1]\n",
            " [1 1 1 1 1]\n",
            " [1 1 1 1 1]\n",
            " [1 1 1 1 1]\n",
            " [1 1 1 1 1]\n",
            " [1 1 1 1 1]]\n",
            "Shape (6, 5)\n",
            "Size 30\n",
            "Rank 1\n",
            "Non-Square Matrix\n",
            "Matrix in not empty\n",
            "Not identity matrix\n",
            "Ones matrix\n",
            "Non-Zero Matrix\n",
            "Matrix E:\n",
            "[[0 1 1 1 1]\n",
            " [1 1 0 1 1]\n",
            " [1 1 1 0 1]\n",
            " [1 1 1 1 0]\n",
            " [1 1 1 0 1]\n",
            " [1 1 1 1 1]]\n",
            "Shape (6, 5)\n",
            "Size 30\n",
            "Rank 5\n",
            "Non-Square Matrix\n",
            "Matrix in not empty\n",
            "Not identity matrix\n",
            "Not a Ones Matrix\n",
            "Non-Zero Matrix\n"
          ]
        }
      ]
    },
    {
      "cell_type": "markdown",
      "source": [
        "Create a function named `mat_operations()` that takes in two matrices a input parameters it should:<br>\n",
        " 1. Determines if the matrices are viable for operation and returns your own error message if they are not viable.\n",
        " 2. Returns the sum of the matrices.\n",
        " 3. Returns the differen of the matrices.\n",
        " 4. Returns the element-wise multiplication of the matrices.\n",
        " 5. Returns the element-wise division of the matrices.\n",
        "\n",
        "Use 5 sample matrices in which their shapes are not lower than $(3,3)$.\n",
        "In your methodology, create a flowchart discuss the functions and methods you have done. Present your results in the results section showing the description of each matrix you have declared."
      ],
      "metadata": {
        "id": "fXk1Rk7JYQUl"
      }
    },
    {
      "cell_type": "code",
      "source": [
        "def mat_operations(mat1, mat2):\n",
        "    mat1 = np.array(mat1)\n",
        "    mat2 = np.array(mat2)\n",
        "    print('Matrix 1:', mat1)\n",
        "    print('Matrix 2:', mat2)\n",
        "    if(mat1.shape != mat2.shape):\n",
        "        print('The matrices are not equal and invalid size operation.')\n",
        "        return\n",
        "    print('Sum of the  matrices:')\n",
        "    matsum = mat1 + mat2\n",
        "    print(matsum)\n",
        "    print('Difference of the  matrices:')\n",
        "    matdiff = mat1 - mat2\n",
        "    print(matdiff)\n",
        "    print('Element-wise multiplication of the  matrices:')\n",
        "    matmul = np.multiply(mat1, mat2)\n",
        "    print(matmul)\n",
        "    print('Element-wise division of the  matrices:')\n",
        "    matdiv = np.divide(mat1, mat2)\n",
        "    print(matdiv)"
      ],
      "metadata": {
        "id": "EMWwDyFPrYA3"
      },
      "execution_count": 32,
      "outputs": []
    },
    {
      "cell_type": "code",
      "source": [
        "print('sample1:')\n",
        "mat_operations([\n",
        "    [1,2,3],\n",
        "    [4,5,6],\n",
        "    [7,8,9]],\n",
        "    [[1,2,3],\n",
        "    [4,5,6],\n",
        "    [7,8,9]\n",
        "])\n",
        "print('sample 2:')\n",
        "mat_operations([\n",
        "    [9, 8, 7,6],\n",
        "    [5,4,3,2],\n",
        "    [1,9,8,7]],\n",
        "    [[6,5,4,3],\n",
        "    [2,1,1,2],\n",
        "    [3,4,5,6]\n",
        "])\n",
        "print('sample 3:')\n",
        "mat_operations([\n",
        "    [1,2,3],\n",
        "    [4,5,6],\n",
        "    [7,8,9]],\n",
        "    [[1,2,3],\n",
        "    [4,5,6],\n",
        "    [7,8,9]\n",
        "])\n",
        "print('sample 4:')\n",
        "mat_operations([\n",
        "    [1,2,3,4,5],\n",
        "    [6,7,8,9,0],\n",
        "    [1,2,3,4,5]],\n",
        "    [[6,7,5,9,0],\n",
        "    [1,2,3,4,5],\n",
        "    [6,7,8,9,0]\n",
        "])\n",
        "print('sample 5:')\n",
        "mat_operations([\n",
        "    [0,1,2,3,4,5],\n",
        "    [6,7,8,9,0,1],\n",
        "    [2,3,4,5,6,7]],\n",
        "    [[8,9,0,1,2,3],\n",
        "    [4,5,7,8,9,0],\n",
        "    [1,2,3,4,5,6]\n",
        "])"
      ],
      "metadata": {
        "id": "Mwk8Pgok_WIW",
        "colab": {
          "base_uri": "https://localhost:8080/"
        },
        "outputId": "6b80e70c-c1ea-4a76-df7f-ea3ecc0e77fe"
      },
      "execution_count": 33,
      "outputs": [
        {
          "output_type": "stream",
          "name": "stdout",
          "text": [
            "sample1:\n",
            "Matrix 1: [[1 2 3]\n",
            " [4 5 6]\n",
            " [7 8 9]]\n",
            "Matrix 2: [[1 2 3]\n",
            " [4 5 6]\n",
            " [7 8 9]]\n",
            "Sum of the  matrices:\n",
            "[[ 2  4  6]\n",
            " [ 8 10 12]\n",
            " [14 16 18]]\n",
            "Difference of the  matrices:\n",
            "[[0 0 0]\n",
            " [0 0 0]\n",
            " [0 0 0]]\n",
            "Element-wise multiplication of the  matrices:\n",
            "[[ 1  4  9]\n",
            " [16 25 36]\n",
            " [49 64 81]]\n",
            "Element-wise division of the  matrices:\n",
            "[[1. 1. 1.]\n",
            " [1. 1. 1.]\n",
            " [1. 1. 1.]]\n",
            "sample 2:\n",
            "Matrix 1: [[9 8 7 6]\n",
            " [5 4 3 2]\n",
            " [1 9 8 7]]\n",
            "Matrix 2: [[6 5 4 3]\n",
            " [2 1 1 2]\n",
            " [3 4 5 6]]\n",
            "Sum of the  matrices:\n",
            "[[15 13 11  9]\n",
            " [ 7  5  4  4]\n",
            " [ 4 13 13 13]]\n",
            "Difference of the  matrices:\n",
            "[[ 3  3  3  3]\n",
            " [ 3  3  2  0]\n",
            " [-2  5  3  1]]\n",
            "Element-wise multiplication of the  matrices:\n",
            "[[54 40 28 18]\n",
            " [10  4  3  4]\n",
            " [ 3 36 40 42]]\n",
            "Element-wise division of the  matrices:\n",
            "[[1.5        1.6        1.75       2.        ]\n",
            " [2.5        4.         3.         1.        ]\n",
            " [0.33333333 2.25       1.6        1.16666667]]\n",
            "sample 3:\n",
            "Matrix 1: [[1 2 3]\n",
            " [4 5 6]\n",
            " [7 8 9]]\n",
            "Matrix 2: [[1 2 3]\n",
            " [4 5 6]\n",
            " [7 8 9]]\n",
            "Sum of the  matrices:\n",
            "[[ 2  4  6]\n",
            " [ 8 10 12]\n",
            " [14 16 18]]\n",
            "Difference of the  matrices:\n",
            "[[0 0 0]\n",
            " [0 0 0]\n",
            " [0 0 0]]\n",
            "Element-wise multiplication of the  matrices:\n",
            "[[ 1  4  9]\n",
            " [16 25 36]\n",
            " [49 64 81]]\n",
            "Element-wise division of the  matrices:\n",
            "[[1. 1. 1.]\n",
            " [1. 1. 1.]\n",
            " [1. 1. 1.]]\n",
            "sample 4:\n",
            "Matrix 1: [[1 2 3 4 5]\n",
            " [6 7 8 9 0]\n",
            " [1 2 3 4 5]]\n",
            "Matrix 2: [[6 7 5 9 0]\n",
            " [1 2 3 4 5]\n",
            " [6 7 8 9 0]]\n",
            "Sum of the  matrices:\n",
            "[[ 7  9  8 13  5]\n",
            " [ 7  9 11 13  5]\n",
            " [ 7  9 11 13  5]]\n",
            "Difference of the  matrices:\n",
            "[[-5 -5 -2 -5  5]\n",
            " [ 5  5  5  5 -5]\n",
            " [-5 -5 -5 -5  5]]\n",
            "Element-wise multiplication of the  matrices:\n",
            "[[ 6 14 15 36  0]\n",
            " [ 6 14 24 36  0]\n",
            " [ 6 14 24 36  0]]\n",
            "Element-wise division of the  matrices:\n",
            "[[0.16666667 0.28571429 0.6        0.44444444        inf]\n",
            " [6.         3.5        2.66666667 2.25       0.        ]\n",
            " [0.16666667 0.28571429 0.375      0.44444444        inf]]\n",
            "sample 5:\n",
            "Matrix 1: [[0 1 2 3 4 5]\n",
            " [6 7 8 9 0 1]\n",
            " [2 3 4 5 6 7]]\n",
            "Matrix 2: [[8 9 0 1 2 3]\n",
            " [4 5 7 8 9 0]\n",
            " [1 2 3 4 5 6]]\n",
            "Sum of the  matrices:\n",
            "[[ 8 10  2  4  6  8]\n",
            " [10 12 15 17  9  1]\n",
            " [ 3  5  7  9 11 13]]\n",
            "Difference of the  matrices:\n",
            "[[-8 -8  2  2  2  2]\n",
            " [ 2  2  1  1 -9  1]\n",
            " [ 1  1  1  1  1  1]]\n",
            "Element-wise multiplication of the  matrices:\n",
            "[[ 0  9  0  3  8 15]\n",
            " [24 35 56 72  0  0]\n",
            " [ 2  6 12 20 30 42]]\n",
            "Element-wise division of the  matrices:\n",
            "[[0.         0.11111111        inf 3.         2.         1.66666667]\n",
            " [1.5        1.4        1.14285714 1.125      0.                inf]\n",
            " [2.         1.5        1.33333333 1.25       1.2        1.16666667]]\n"
          ]
        },
        {
          "output_type": "stream",
          "name": "stderr",
          "text": [
            "/usr/local/lib/python3.7/dist-packages/ipykernel_launcher.py:19: RuntimeWarning: divide by zero encountered in true_divide\n"
          ]
        }
      ]
    }
  ]
}