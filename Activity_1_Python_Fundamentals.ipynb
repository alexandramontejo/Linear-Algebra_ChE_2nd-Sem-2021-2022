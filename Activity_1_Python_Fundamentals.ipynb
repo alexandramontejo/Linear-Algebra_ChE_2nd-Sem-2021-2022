{
  "cells": [
    {
      "cell_type": "markdown",
      "metadata": {
        "id": "view-in-github",
        "colab_type": "text"
      },
      "source": [
        "<a href=\"https://colab.research.google.com/github/alexandramontejo/Linear-Algebra_ChE_2nd-Sem-2021-2022/blob/main/Activity_1_Python_Fundamentals.ipynb\" target=\"_parent\"><img src=\"https://colab.research.google.com/assets/colab-badge.svg\" alt=\"Open In Colab\"/></a>"
      ]
    },
    {
      "cell_type": "markdown",
      "metadata": {
        "id": "NLHuK9lU_flD"
      },
      "source": [
        "# Welcome to Python Fundamentals\n",
        "In this module, we are going to establish or review our skills in Python programming. In this notebook we are going to cover:\n",
        "* Variables and Data Types \n",
        "* Operations\n",
        "* Input and Output Operations\n",
        "* Logic Control\n",
        "* Iterables\n",
        "* Functions"
      ]
    },
    {
      "cell_type": "markdown",
      "metadata": {
        "id": "bWXfXVYzAFNM"
      },
      "source": [
        "## Variable and Data Types\n",
        "variables are used to store values that will be later used in further codes. Variables are immediately existent in the codes as soon as its value is already assigned. Furthermore, Data type is the determinant of the operation that will be performed on the variable–lists, strings, and numbers are the different types of data. numbers can be defined as floats, integers, or even complex numbers "
      ]
    },
    {
      "cell_type": "code",
      "execution_count": null,
      "metadata": {
        "id": "rxIsxMPMAMPN",
        "colab": {
          "base_uri": "https://localhost:8080/"
        },
        "outputId": "80426221-606b-4d7a-985a-a2a448582a08"
      },
      "outputs": [
        {
          "output_type": "execute_result",
          "data": {
            "text/plain": [
              "10"
            ]
          },
          "metadata": {},
          "execution_count": 6
        }
      ],
      "source": [
        "m= 1\n",
        "x,y,z= 7, 10, 13\n",
        "y"
      ]
    },
    {
      "cell_type": "code",
      "execution_count": null,
      "metadata": {
        "id": "hw_zIUmtA9LJ",
        "colab": {
          "base_uri": "https://localhost:8080/"
        },
        "outputId": "7b77bdbe-b356-4aef-e0a2-f26371216ea0"
      },
      "outputs": [
        {
          "output_type": "execute_result",
          "data": {
            "text/plain": [
              "int"
            ]
          },
          "metadata": {},
          "execution_count": 7
        }
      ],
      "source": [
        "type(x)\n"
      ]
    },
    {
      "cell_type": "code",
      "execution_count": null,
      "metadata": {
        "id": "uBk1PpH1BmWO",
        "colab": {
          "base_uri": "https://localhost:8080/"
        },
        "outputId": "403c0020-3867-4ae6-9644-9f6bc2fe8e5b"
      },
      "outputs": [
        {
          "output_type": "execute_result",
          "data": {
            "text/plain": [
              "float"
            ]
          },
          "metadata": {},
          "execution_count": 8
        }
      ],
      "source": [
        "y=1.0\n",
        "type(y)\n"
      ]
    },
    {
      "cell_type": "code",
      "execution_count": null,
      "metadata": {
        "id": "N_cyHdfnBrPE",
        "colab": {
          "base_uri": "https://localhost:8080/"
        },
        "outputId": "e3994870-0921-4c63-8ed6-5a1be2a57432"
      },
      "outputs": [
        {
          "output_type": "execute_result",
          "data": {
            "text/plain": [
              "float"
            ]
          },
          "metadata": {},
          "execution_count": 9
        }
      ],
      "source": [
        "x = float(x)\n",
        "type(x)\n"
      ]
    },
    {
      "cell_type": "code",
      "execution_count": null,
      "metadata": {
        "id": "H1Oa4cwkB4Nu",
        "colab": {
          "base_uri": "https://localhost:8080/"
        },
        "outputId": "39719fbc-dcb7-4296-af76-348e7254a69d"
      },
      "outputs": [
        {
          "output_type": "execute_result",
          "data": {
            "text/plain": [
              "str"
            ]
          },
          "metadata": {},
          "execution_count": 10
        }
      ],
      "source": [
        "s,t,u = \"0\", '1', 'one'\n",
        "type(t)"
      ]
    },
    {
      "cell_type": "code",
      "execution_count": null,
      "metadata": {
        "id": "TQO1QbBICQxM",
        "colab": {
          "base_uri": "https://localhost:8080/"
        },
        "outputId": "be354f23-93f9-4037-a656-a07ec04eefcb"
      },
      "outputs": [
        {
          "output_type": "execute_result",
          "data": {
            "text/plain": [
              "0"
            ]
          },
          "metadata": {},
          "execution_count": 11
        }
      ],
      "source": [
        "s_int = int(s)\n",
        "s_int"
      ]
    },
    {
      "cell_type": "markdown",
      "metadata": {
        "id": "uRH4lzqACyzV"
      },
      "source": [
        "## Operations\n",
        "Another method to be discussed is the operations. In coding, it is known that operations are the ones responsible for the arithmetic computations needed in the program. several operations were performed in this activity. Arithmetic, assignment, comparators, logical. and the input-output operations "
      ]
    },
    {
      "cell_type": "markdown",
      "metadata": {
        "id": "eFpQjOF4C7HG"
      },
      "source": [
        "### Arithmetic\n",
        "In this portion of the activity, the students are able to use the mathematical operations of addition, subtraction, multiplication, and division. Just like in elementary, the symbols used to represent the operations are the same."
      ]
    },
    {
      "cell_type": "code",
      "execution_count": null,
      "metadata": {
        "id": "w9XPO-taC9t0"
      },
      "outputs": [],
      "source": [
        "s,a,g,e= 1.0, -3.0, 5.0, 7.0"
      ]
    },
    {
      "cell_type": "code",
      "execution_count": null,
      "metadata": {
        "colab": {
          "base_uri": "https://localhost:8080/"
        },
        "id": "BV6O-eFiDKrH",
        "outputId": "4fdd6935-49d9-4528-8ea1-35b732a8c4a6"
      },
      "outputs": [
        {
          "data": {
            "text/plain": [
              "2.0"
            ]
          },
          "execution_count": 25,
          "metadata": {},
          "output_type": "execute_result"
        }
      ],
      "source": [
        "### Addition\n",
        "s = a+g\n",
        "s"
      ]
    },
    {
      "cell_type": "code",
      "execution_count": null,
      "metadata": {
        "colab": {
          "base_uri": "https://localhost:8080/"
        },
        "id": "DGGMIqyhEfCq",
        "outputId": "ed0f6b60-48d3-4c27-c263-e88af9909daf"
      },
      "outputs": [
        {
          "data": {
            "text/plain": [
              "-8.0"
            ]
          },
          "execution_count": 27,
          "metadata": {},
          "output_type": "execute_result"
        }
      ],
      "source": [
        "### Subtraction\n",
        "e = a-g\n",
        "e\n"
      ]
    },
    {
      "cell_type": "code",
      "execution_count": null,
      "metadata": {
        "colab": {
          "base_uri": "https://localhost:8080/"
        },
        "id": "qI3U2MPIErXW",
        "outputId": "d59e377c-3270-4357-8a25-60c5b6fb40f9"
      },
      "outputs": [
        {
          "data": {
            "text/plain": [
              "24.0"
            ]
          },
          "execution_count": 28,
          "metadata": {},
          "output_type": "execute_result"
        }
      ],
      "source": [
        "### Multiplication\n",
        "g= e*a\n",
        "g"
      ]
    },
    {
      "cell_type": "code",
      "execution_count": null,
      "metadata": {
        "colab": {
          "base_uri": "https://localhost:8080/"
        },
        "id": "c9XCK3UhE3uT",
        "outputId": "680c0d0c-a117-4c50-82b3-4dc2ddd599ac"
      },
      "outputs": [
        {
          "data": {
            "text/plain": [
              "0.375"
            ]
          },
          "execution_count": 29,
          "metadata": {},
          "output_type": "execute_result"
        }
      ],
      "source": [
        "### Division\n",
        "g= a/e\n",
        "g"
      ]
    },
    {
      "cell_type": "code",
      "execution_count": null,
      "metadata": {
        "colab": {
          "base_uri": "https://localhost:8080/"
        },
        "id": "3Q95RHw_E8qx",
        "outputId": "82cf6ce6-9f1b-40cb-bdd0-cded2c576d0a"
      },
      "outputs": [
        {
          "data": {
            "text/plain": [
              "5.0"
            ]
          },
          "execution_count": 36,
          "metadata": {},
          "output_type": "execute_result"
        }
      ],
      "source": [
        "### Floor Division\n",
        "Fq = g//s\n",
        "Fq"
      ]
    },
    {
      "cell_type": "code",
      "execution_count": null,
      "metadata": {
        "colab": {
          "base_uri": "https://localhost:8080/"
        },
        "id": "BAGBSadbINPk",
        "outputId": "cd48974c-e612-4a59-9f62-3b648ace0eca"
      },
      "outputs": [
        {
          "data": {
            "text/plain": [
              "-243.0"
            ]
          },
          "execution_count": 37,
          "metadata": {},
          "output_type": "execute_result"
        }
      ],
      "source": [
        "### Exponentation\n",
        "E = a**g\n",
        "E"
      ]
    },
    {
      "cell_type": "code",
      "execution_count": null,
      "metadata": {
        "colab": {
          "base_uri": "https://localhost:8080/"
        },
        "id": "QRc6-pf0Ikcl",
        "outputId": "12299111-f450-40ba-e967-b712b9606fed"
      },
      "outputs": [
        {
          "data": {
            "text/plain": [
              "2.0"
            ]
          },
          "execution_count": 41,
          "metadata": {},
          "output_type": "execute_result"
        }
      ],
      "source": [
        "### Modulo\n",
        "mod = e%g\n",
        "mod"
      ]
    },
    {
      "cell_type": "markdown",
      "metadata": {
        "id": "HzZ4CR48JjSV"
      },
      "source": [
        "### Assignment Operation\n",
        "In Python, as shown in the figure below, assignment operators are used to assign values to variables. In assignment statements and assignment expressions, the assignment operator is represented by the \"=\" symbol. The assignment operator assigns the right-hand side value or operand to the left-hand operand."
      ]
    },
    {
      "cell_type": "code",
      "execution_count": null,
      "metadata": {
        "id": "zQtO3dHPJoAd"
      },
      "outputs": [],
      "source": [
        " J,E,T,H = 31,8, 7, 9\n"
      ]
    },
    {
      "cell_type": "code",
      "execution_count": null,
      "metadata": {
        "colab": {
          "base_uri": "https://localhost:8080/"
        },
        "id": "ltYEjakPKsck",
        "outputId": "600e754e-d731-4109-e76b-1e3c100b2192"
      },
      "outputs": [
        {
          "data": {
            "text/plain": [
              "22.0"
            ]
          },
          "execution_count": 55,
          "metadata": {},
          "output_type": "execute_result"
        }
      ],
      "source": [
        "J += e\n",
        "J"
      ]
    },
    {
      "cell_type": "code",
      "execution_count": null,
      "metadata": {
        "colab": {
          "base_uri": "https://localhost:8080/"
        },
        "id": "qLyMcN9yKwUS",
        "outputId": "07fa89d0-a807-48d9-d63c-e268a29c49f5"
      },
      "outputs": [
        {
          "data": {
            "text/plain": [
              "0.0"
            ]
          },
          "execution_count": 54,
          "metadata": {},
          "output_type": "execute_result"
        }
      ],
      "source": [
        "E -= s\n",
        "E"
      ]
    },
    {
      "cell_type": "code",
      "execution_count": null,
      "metadata": {
        "colab": {
          "base_uri": "https://localhost:8080/"
        },
        "id": "ArPW7QbxLBx3",
        "outputId": "796abba5-f3ac-4581-df69-a67f2009adaf"
      },
      "outputs": [
        {
          "data": {
            "text/plain": [
              "81"
            ]
          },
          "execution_count": 57,
          "metadata": {},
          "output_type": "execute_result"
        }
      ],
      "source": [
        "T *= 3\n",
        "T"
      ]
    },
    {
      "cell_type": "code",
      "execution_count": null,
      "metadata": {
        "colab": {
          "base_uri": "https://localhost:8080/"
        },
        "id": "koonvZImLG6-",
        "outputId": "2b59bfab-26c2-48e2-e109-49eee60178e7"
      },
      "outputs": [
        {
          "data": {
            "text/plain": [
              "717897987691852588770249"
            ]
          },
          "execution_count": 62,
          "metadata": {},
          "output_type": "execute_result"
        }
      ],
      "source": [
        "H **= 5\n",
        "H"
      ]
    },
    {
      "cell_type": "markdown",
      "metadata": {
        "id": "7pZoP8pqLT3i"
      },
      "source": [
        "### Comparators\n",
        "A comparison operator, also known as a relational operator, compares the values of two operands and returns True or False depending on whether the condition is satisfied."
      ]
    },
    {
      "cell_type": "code",
      "execution_count": null,
      "metadata": {
        "id": "95lrdowNLWSq"
      },
      "outputs": [],
      "source": [
        "res_1, res_2, res_3 = 1, 2.0 , \"1\"\n",
        "true_val = 1.0"
      ]
    },
    {
      "cell_type": "code",
      "execution_count": null,
      "metadata": {
        "colab": {
          "base_uri": "https://localhost:8080/"
        },
        "id": "QHrNM6RdLhEh",
        "outputId": "bce08065-f3d4-4a0a-dd51-b44baa6620c6"
      },
      "outputs": [
        {
          "data": {
            "text/plain": [
              "True"
            ]
          },
          "execution_count": 65,
          "metadata": {},
          "output_type": "execute_result"
        }
      ],
      "source": [
        "## Equality\n",
        "res_1 == true_val"
      ]
    },
    {
      "cell_type": "code",
      "execution_count": null,
      "metadata": {
        "colab": {
          "base_uri": "https://localhost:8080/"
        },
        "id": "KhH2VFKlLqM5",
        "outputId": "261fca4c-c0f5-491f-d6ec-5092a2535e14"
      },
      "outputs": [
        {
          "data": {
            "text/plain": [
              "True"
            ]
          },
          "execution_count": 66,
          "metadata": {},
          "output_type": "execute_result"
        }
      ],
      "source": [
        "## Non-equality\n",
        "res_2 != true_val"
      ]
    },
    {
      "cell_type": "code",
      "execution_count": null,
      "metadata": {
        "colab": {
          "base_uri": "https://localhost:8080/"
        },
        "id": "Ney2cOJ_Lzgw",
        "outputId": "8c91fa07-c0b4-46b3-8d9d-5d445969be80"
      },
      "outputs": [
        {
          "data": {
            "text/plain": [
              "True"
            ]
          },
          "execution_count": 69,
          "metadata": {},
          "output_type": "execute_result"
        }
      ],
      "source": [
        "## Inequality\n",
        "t1 = res_1 > res_2\n",
        "t2 = res_1 < res_2/2\n",
        "t3 = res_1 >= res_2/2\n",
        "t4 = res_1 <= res_2\n",
        "t4"
      ]
    },
    {
      "cell_type": "markdown",
      "metadata": {
        "id": "08kf8A-SMZTK"
      },
      "source": [
        "### Logical\n",
        "Logical operators conduct logical operations on data and produce a boolean result (true or false) based on the circumstances of the statement. To reiterate the codes above, they carry out operations such as logical AND, logical OR, and logical NOT. Logical AND operator returns True if both operands are True, else it returns False; Logical OR operator returns True if either operand is True; Logical NOT operator works with a single boolean value. If the boolean value is True, it returns True; otherwise, it returns False. Python always evaluates expressions with multiple operators from left to right. "
      ]
    },
    {
      "cell_type": "code",
      "execution_count": null,
      "metadata": {
        "colab": {
          "base_uri": "https://localhost:8080/"
        },
        "id": "IiRKaWa7Mbdj",
        "outputId": "aa5c030e-2b96-4c79-8ec8-6977de421d5f"
      },
      "outputs": [
        {
          "data": {
            "text/plain": [
              "True"
            ]
          },
          "execution_count": 70,
          "metadata": {},
          "output_type": "execute_result"
        }
      ],
      "source": [
        "res_1 == true_val"
      ]
    },
    {
      "cell_type": "code",
      "execution_count": null,
      "metadata": {
        "colab": {
          "base_uri": "https://localhost:8080/"
        },
        "id": "usRqp2TeMgSK",
        "outputId": "d652cfba-c19d-4537-b122-ed003a9565eb"
      },
      "outputs": [
        {
          "data": {
            "text/plain": [
              "False"
            ]
          },
          "execution_count": 71,
          "metadata": {},
          "output_type": "execute_result"
        }
      ],
      "source": [
        "res_1 is true_val"
      ]
    },
    {
      "cell_type": "code",
      "execution_count": null,
      "metadata": {
        "colab": {
          "base_uri": "https://localhost:8080/"
        },
        "id": "Op1x1j9cNgUr",
        "outputId": "f69f0a45-1d13-47d0-853c-0270d5b223eb"
      },
      "outputs": [
        {
          "data": {
            "text/plain": [
              "True"
            ]
          },
          "execution_count": 72,
          "metadata": {},
          "output_type": "execute_result"
        }
      ],
      "source": [
        "res_1 is not true_val"
      ]
    },
    {
      "cell_type": "code",
      "execution_count": null,
      "metadata": {
        "colab": {
          "base_uri": "https://localhost:8080/"
        },
        "id": "u4Ee0riQNiRC",
        "outputId": "4c6ac696-7e20-423e-9888-0f1e64f3f0b8"
      },
      "outputs": [
        {
          "data": {
            "text/plain": [
              "False"
            ]
          },
          "execution_count": 73,
          "metadata": {},
          "output_type": "execute_result"
        }
      ],
      "source": [
        "p, q = True, False\n",
        "conj = p and q\n",
        "conj"
      ]
    },
    {
      "cell_type": "code",
      "execution_count": null,
      "metadata": {
        "colab": {
          "base_uri": "https://localhost:8080/"
        },
        "id": "vOLo42PvNj7g",
        "outputId": "0045329c-914b-45d1-f86e-5c4e1120304a"
      },
      "outputs": [
        {
          "data": {
            "text/plain": [
              "True"
            ]
          },
          "execution_count": 74,
          "metadata": {},
          "output_type": "execute_result"
        }
      ],
      "source": [
        "p, q = True, False\n",
        "disj = p or q\n",
        "disj\n"
      ]
    },
    {
      "cell_type": "code",
      "execution_count": null,
      "metadata": {
        "colab": {
          "base_uri": "https://localhost:8080/"
        },
        "id": "hWDUEbTgNlGG",
        "outputId": "58a1abd0-25ad-43eb-eafd-1c868a53491d"
      },
      "outputs": [
        {
          "data": {
            "text/plain": [
              "False"
            ]
          },
          "execution_count": 75,
          "metadata": {},
          "output_type": "execute_result"
        }
      ],
      "source": [
        "p, q = False, False\n",
        "disj = p or q\n",
        "disj"
      ]
    },
    {
      "cell_type": "code",
      "execution_count": null,
      "metadata": {
        "colab": {
          "base_uri": "https://localhost:8080/"
        },
        "id": "nDYs4r7TNmmE",
        "outputId": "cd4fd2de-e4e4-4c82-8f54-a450f266058b"
      },
      "outputs": [
        {
          "data": {
            "text/plain": [
              "True"
            ]
          },
          "execution_count": 76,
          "metadata": {},
          "output_type": "execute_result"
        }
      ],
      "source": [
        "p, q = True, False\n",
        "e = not(q)\n",
        "e"
      ]
    },
    {
      "cell_type": "code",
      "execution_count": null,
      "metadata": {
        "colab": {
          "base_uri": "https://localhost:8080/"
        },
        "id": "6FooSKgMNoNL",
        "outputId": "9b9a715b-a60b-49d0-c6a4-2d400364e89e"
      },
      "outputs": [
        {
          "data": {
            "text/plain": [
              "True"
            ]
          },
          "execution_count": 77,
          "metadata": {},
          "output_type": "execute_result"
        }
      ],
      "source": [
        "p, q = True, False\n",
        "xor = (not p and q) or (p and not q)\n",
        "xor"
      ]
    },
    {
      "cell_type": "markdown",
      "metadata": {
        "id": "TynEcbodNpur"
      },
      "source": [
        "### I/O\n",
        "To be functional, a software must typically connect with the outside world by taking input data from the user and showing output data back to the user. This is when the input-output operator intervenes. Input might come directly from the user's keyboard or from external sources such as files or databases."
      ]
    },
    {
      "cell_type": "code",
      "execution_count": null,
      "metadata": {
        "colab": {
          "base_uri": "https://localhost:8080/"
        },
        "id": "krRRHHj0NtF8",
        "outputId": "31dbd26c-cab1-47b4-9fcd-c86edb3277e1"
      },
      "outputs": [
        {
          "name": "stdout",
          "output_type": "stream",
          "text": [
            "Hello Penguin\n"
          ]
        }
      ],
      "source": [
        "print(\"Hello Penguin\")"
      ]
    },
    {
      "cell_type": "code",
      "execution_count": null,
      "metadata": {
        "id": "jg6Bwof9NwYN"
      },
      "outputs": [],
      "source": [
        "cnt = 1"
      ]
    },
    {
      "cell_type": "code",
      "execution_count": null,
      "metadata": {
        "colab": {
          "base_uri": "https://localhost:8080/"
        },
        "id": "jI7NH42_Nyfy",
        "outputId": "1d43ca81-9177-4628-8586-cc1631e690b2"
      },
      "outputs": [
        {
          "name": "stdout",
          "output_type": "stream",
          "text": [
            "Hello Penguin Current run count is: 1\n"
          ]
        }
      ],
      "source": [
        "string = \"Hello Penguin\"\n",
        "print(string, \"Current run count is:\", cnt)\n",
        "cnt += 1"
      ]
    },
    {
      "cell_type": "code",
      "execution_count": null,
      "metadata": {
        "colab": {
          "base_uri": "https://localhost:8080/"
        },
        "id": "kRTTI7TzN4dS",
        "outputId": "efc20843-5eff-4415-9a21-e7dd7b703c96"
      },
      "outputs": [
        {
          "name": "stdout",
          "output_type": "stream",
          "text": [
            "Hello Penguin Current count is: 2\n"
          ]
        }
      ],
      "source": [
        "print(f\"{string} Current count is: {cnt}\")"
      ]
    },
    {
      "cell_type": "code",
      "execution_count": null,
      "metadata": {
        "colab": {
          "base_uri": "https://localhost:8080/"
        },
        "id": "REFV6boUN70T",
        "outputId": "3a1c5b4d-1595-4d68-efd4-f8fdbe2c90b1"
      },
      "outputs": [
        {
          "name": "stdout",
          "output_type": "stream",
          "text": [
            "Hello penguin, your semestral grade is: 100\n"
          ]
        }
      ],
      "source": [
        "sem_grade = 100\n",
        "name = \"penguin\"\n",
        "print(\"Hello {}, your semestral grade is: {}\".format(name, sem_grade))"
      ]
    },
    {
      "cell_type": "markdown",
      "metadata": {
        "id": "yfgYmdbmx5Br"
      },
      "source": [
        ""
      ]
    },
    {
      "cell_type": "code",
      "execution_count": null,
      "metadata": {
        "colab": {
          "base_uri": "https://localhost:8080/"
        },
        "id": "rj9IC_ri_QTV",
        "outputId": "2ec9eaf1-fd90-46aa-a818-e764d70b4f92"
      },
      "outputs": [
        {
          "name": "stdout",
          "output_type": "stream",
          "text": [
            "The weights of your semestral grade are:\n",
            "\t30.00% for Prelims\n",
            "\t30.00% for Misterms, and\n",
            "\t40.00% for Finals.\n"
          ]
        }
      ],
      "source": [
        "w_pg, w_mg, w_fg = 0.3, 0.3, 0.4\n",
        "print(\"The weights of your semestral grade are:\\\n",
        "\\n\\t{:.2%} for Prelims\\\n",
        "\\n\\t{:.2%} for Misterms, and\\\n",
        "\\n\\t{:.2%} for Finals.\".format(w_pg, w_mg, w_fg))"
      ]
    },
    {
      "cell_type": "code",
      "execution_count": null,
      "metadata": {
        "colab": {
          "base_uri": "https://localhost:8080/",
          "height": 53
        },
        "id": "xdXR4zqyDYwq",
        "outputId": "d3f13a4b-2a14-40df-fad1-48e64947e982"
      },
      "outputs": [
        {
          "name": "stdout",
          "output_type": "stream",
          "text": [
            "select an agent: jett\n"
          ]
        },
        {
          "data": {
            "application/vnd.google.colaboratory.intrinsic+json": {
              "type": "string"
            },
            "text/plain": [
              "'jett'"
            ]
          },
          "execution_count": 8,
          "metadata": {},
          "output_type": "execute_result"
        }
      ],
      "source": [
        "x = input(\"select an agent: \")\n",
        "x\n"
      ]
    },
    {
      "cell_type": "code",
      "execution_count": null,
      "metadata": {
        "colab": {
          "base_uri": "https://localhost:8080/"
        },
        "id": "z97xMvDsDjBZ",
        "outputId": "cd0a12dc-6433-4c27-9c8e-f89e2f072f05"
      },
      "outputs": [
        {
          "name": "stdout",
          "output_type": "stream",
          "text": [
            "Kimi mo nawa: pengu\n",
            "Enter prelim grade: 90\n",
            "Enter midterm grade: 90\n",
            "Enter final grade: 90\n",
            "Hello pengu, your semestral grade is: None\n"
          ]
        }
      ],
      "source": [
        "name = input (\"Kimi mo nawa: \")\n",
        "pg = input (\"Enter prelim grade: \")\n",
        "mg = input (\"Enter midterm grade: \")\n",
        "fg = input (\"Enter final grade: \")\n",
        "sem_grade = None\n",
        "print (\"Hello {}, your semestral grade is: {}\".format(name, sem_grade))\n"
      ]
    },
    {
      "cell_type": "markdown",
      "metadata": {
        "id": "fjzEkwX1Epgs"
      },
      "source": [
        "#Looping Statement\n",
        "Loop, as its name suggests, allows the functions to be executed again for as many as the programmer decides on "
      ]
    },
    {
      "cell_type": "markdown",
      "metadata": {
        "id": "bIKBmZGOEvHx"
      },
      "source": [
        "###While\n"
      ]
    },
    {
      "cell_type": "code",
      "execution_count": null,
      "metadata": {
        "id": "7kOh3v5-EywX",
        "colab": {
          "base_uri": "https://localhost:8080/"
        },
        "outputId": "6dd6df02-3167-4e85-a19b-83fe90ec2ed4"
      },
      "outputs": [
        {
          "output_type": "stream",
          "name": "stdout",
          "text": [
            "14\t|\t15\n",
            "15\t|\t15\n"
          ]
        }
      ],
      "source": [
        "## while loops\n",
        "pengu, alex = 7, 15\n",
        "while(i<=j):\n",
        "    print(f\"{i}\\t|\\t{j}\")\n",
        "    i+=1"
      ]
    },
    {
      "cell_type": "markdown",
      "metadata": {
        "id": "xtERgoxrG8eH"
      },
      "source": [
        "###For"
      ]
    },
    {
      "cell_type": "code",
      "execution_count": null,
      "metadata": {
        "id": "zUR77cIeG98N",
        "colab": {
          "base_uri": "https://localhost:8080/"
        },
        "outputId": "ecf5ec7f-bf05-41dd-c3d7-869c43f9b5dc"
      },
      "outputs": [
        {
          "output_type": "stream",
          "name": "stdout",
          "text": [
            "0\n",
            "1\n",
            "2\n",
            "3\n",
            "4\n",
            "5\n",
            "6\n",
            "7\n",
            "8\n",
            "9\n"
          ]
        }
      ],
      "source": [
        "#for(int i=0; i<15; i++){\n",
        "#print(pengu)\n",
        "#}\n",
        "\n",
        "pengu = 10\n",
        "for pengu in range (10):\n",
        "      print(pengu)"
      ]
    },
    {
      "cell_type": "code",
      "execution_count": null,
      "metadata": {
        "id": "rBC-UEK_HGTO",
        "colab": {
          "base_uri": "https://localhost:8080/"
        },
        "outputId": "ac9cff5c-be90-42a0-dd11-38af554e3411"
      },
      "outputs": [
        {
          "output_type": "stream",
          "name": "stdout",
          "text": [
            "Now PLaying:\n",
            "\n",
            "Work Song\n",
            "Sweater Weather\n",
            "Robbers\n"
          ]
        }
      ],
      "source": [
        "playlist = [\"Work Song\",\"Sweater Weather\",\"Robbers\"]\n",
        "print('Now PLaying:\\n')\n",
        "for song in playlist:\n",
        "      print(song)"
      ]
    },
    {
      "cell_type": "markdown",
      "metadata": {
        "id": "p2K6j1m9Hv5u"
      },
      "source": [
        "#Flow Control\n",
        "This is a conditional statement that controls how the codes will be presented and/or executed. If and else if are statements that were used in this segment of the activity. This function enables the program to run until the certain parameters are met "
      ]
    },
    {
      "cell_type": "markdown",
      "metadata": {
        "id": "q1KIeRKHHy4X"
      },
      "source": [
        "##Condition Statements\n"
      ]
    },
    {
      "cell_type": "code",
      "execution_count": null,
      "metadata": {
        "colab": {
          "base_uri": "https://localhost:8080/"
        },
        "id": "JaaL7kHZIEYA",
        "outputId": "7341efe1-435a-4eae-d0c5-2c7cd3ec66b8"
      },
      "outputs": [
        {
          "output_type": "stream",
          "name": "stdout",
          "text": [
            "shesh\n"
          ]
        }
      ],
      "source": [
        "numeral1, numeral2 = 7, 15\n",
        "if(numeral1 == numeral2):\n",
        "      print(\"beep\")\n",
        "elif(numeral1>numeral2):\n",
        "      print(\"boop\")\n",
        "else:\n",
        "      print(\"shesh\")\n"
      ]
    },
    {
      "cell_type": "markdown",
      "metadata": {
        "id": "T83IRYGNIVUF"
      },
      "source": [
        "##Functions"
      ]
    },
    {
      "cell_type": "code",
      "execution_count": 1,
      "metadata": {
        "id": "Ay6ONIlwIX2l"
      },
      "outputs": [],
      "source": [
        "# void DeleteUser(int userid){\n",
        "#     delete(userid);\n",
        "# }\n",
        "\n",
        "def delete_user (userid):\n",
        "    print(\"Successfully deleted user: {}\".format(userid))\n",
        "\n",
        "def delete_all_users ():\n",
        "    print(\"Successfully deleted all users\")\n",
        "    "
      ]
    },
    {
      "cell_type": "code",
      "execution_count": 2,
      "metadata": {
        "colab": {
          "base_uri": "https://localhost:8080/"
        },
        "id": "IrsmCTgMKLa1",
        "outputId": "9e148af2-f94f-4cf8-9092-fb552e2a6130"
      },
      "outputs": [
        {
          "output_type": "stream",
          "name": "stdout",
          "text": [
            "Successfully deleted user: pengu\n",
            "Successfully deleted all users\n"
          ]
        }
      ],
      "source": [
        "userid = \"pengu\"\n",
        "delete_user(\"pengu\")\n",
        "delete_all_users()"
      ]
    },
    {
      "cell_type": "code",
      "execution_count": 3,
      "metadata": {
        "colab": {
          "base_uri": "https://localhost:8080/"
        },
        "id": "4ieRwFVjOsop",
        "outputId": "1bdf5497-1fca-4c17-a922-089fdca86531"
      },
      "outputs": [
        {
          "output_type": "execute_result",
          "data": {
            "text/plain": [
              "32"
            ]
          },
          "metadata": {},
          "execution_count": 3
        }
      ],
      "source": [
        "def add(addend1, addend2):\n",
        "    print(\"I know how to add addend1 and addend2\")\n",
        "    return addend1 + addend2\n",
        "   \n",
        "\n",
        "def power_of_base2(exponent):\n",
        "    return 2**exponent\n",
        "\n",
        "addend1= 5\n",
        "addend2= 7\n",
        "\n",
        "exponent = 5\n",
        "\n",
        "#add(addend1, addend2)\n",
        "power_of_base2(exponent)"
      ]
    },
    {
      "cell_type": "code",
      "execution_count": 4,
      "metadata": {
        "colab": {
          "base_uri": "https://localhost:8080/"
        },
        "id": "zIzC4gWsOxby",
        "outputId": "26c9cab0-41d8-4376-f84e-77c986949b70"
      },
      "outputs": [
        {
          "output_type": "stream",
          "name": "stdout",
          "text": [
            "I know how to add addend1 and addend2\n"
          ]
        },
        {
          "output_type": "execute_result",
          "data": {
            "text/plain": [
              "12"
            ]
          },
          "metadata": {},
          "execution_count": 4
        }
      ],
      "source": [
        "add(addend1,addend2)"
      ]
    },
    {
      "cell_type": "markdown",
      "metadata": {
        "id": "SPaqt353x8S-"
      },
      "source": [
        "##Calculator\n",
        "This program enables the user to input their name and their semestral grade with the output of specific emoji according to the input grade. This activity implements all the fundamentals that the students have learned during the discussion. Print operand, assignment operator, and input-output are some of the commands that were used to run the program.\n"
      ]
    },
    {
      "cell_type": "code",
      "execution_count": null,
      "metadata": {
        "colab": {
          "base_uri": "https://localhost:8080/"
        },
        "id": "N7427KvTx_AO",
        "outputId": "363db739-edac-404b-ba87-210b28aec39a"
      },
      "outputs": [
        {
          "output_type": "stream",
          "name": "stdout",
          "text": [
            "\n",
            "\tWhat is your name? JoSa\n",
            "\tWhat is your course? BS ChE\n",
            "\tGive Prelim Grade : 100\n",
            "\tGive Midterm Grade : 85\n",
            "\tGive Final Grade : 90\n",
            "\n",
            "\t===== DISPLAYING RESULTS =====\n",
            "\n",
            "\tYour name is JoSa and your course is BS ChE\n",
            "\n",
            "\tYour grade is 😀\n",
            "\n"
          ]
        }
      ],
      "source": [
        "print()\n",
        "name = input('\\tWhat is your name? ');\n",
        "course = input('\\tWhat is your course? ');\n",
        "prelim = float(input('\\tGive Prelim Grade : '));\n",
        "midterm = float(input('\\tGive Midterm Grade : '));\n",
        "final = float(input('\\tGive Final Grade : '));\n",
        "grade= (prelim) + (midterm) + (final);\n",
        "avg= grade/3;\n",
        "\n",
        "print();\n",
        "print(\"\\t===== DISPLAYING RESULTS =====\");\n",
        "print();\n",
        "print(\"\\tYour name is\", name, \"and your course is\", course);\n",
        "print();\n",
        "if avg > 70:\n",
        "    print(\"\\tYour grade is \\U0001F600\");\n",
        "elif avg == 70:\n",
        "    print(\"\\tYour grade is \\U0001F606\");\n",
        "elif avg < 70:\n",
        "      print(\"\\tYour grade is \\U0001F62D\");\n",
        "print();"
      ]
    }
  ],
  "metadata": {
    "colab": {
      "collapsed_sections": [
        "eFpQjOF4C7HG",
        "HzZ4CR48JjSV",
        "7pZoP8pqLT3i",
        "08kf8A-SMZTK",
        "bIKBmZGOEvHx",
        "xtERgoxrG8eH",
        "q1KIeRKHHy4X"
      ],
      "name": "Activity 1-Python Fundamentals",
      "provenance": [],
      "authorship_tag": "ABX9TyOE12m/CjEdbZl/t+Myn0ya",
      "include_colab_link": true
    },
    "kernelspec": {
      "display_name": "Python 3",
      "name": "python3"
    },
    "language_info": {
      "name": "python"
    }
  },
  "nbformat": 4,
  "nbformat_minor": 0
}