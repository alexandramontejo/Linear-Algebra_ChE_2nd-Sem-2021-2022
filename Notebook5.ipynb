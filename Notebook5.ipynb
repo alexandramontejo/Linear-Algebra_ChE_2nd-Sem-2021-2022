{
  "nbformat": 4,
  "nbformat_minor": 0,
  "metadata": {
    "colab": {
      "name": "Notebook5",
      "provenance": [],
      "authorship_tag": "ABX9TyMLXLrBO8IYtlRjDHeZqSfe",
      "include_colab_link": true
    },
    "kernelspec": {
      "name": "python3",
      "display_name": "Python 3"
    },
    "language_info": {
      "name": "python"
    }
  },
  "cells": [
    {
      "cell_type": "markdown",
      "metadata": {
        "id": "view-in-github",
        "colab_type": "text"
      },
      "source": [
        "<a href=\"https://colab.research.google.com/github/alexandramontejo/Linear-Algebra_ChE_2nd-Sem-2021-2022/blob/main/Notebook5.ipynb\" target=\"_parent\"><img src=\"https://colab.research.google.com/assets/colab-badge.svg\" alt=\"Open In Colab\"/></a>"
      ]
    },
    {
      "cell_type": "markdown",
      "source": [
        "# Linear Algebra for ChE\n",
        "## Laboratory 5 : Linear Combination and Vector Spaces"
      ],
      "metadata": {
        "id": "aD2t48xCO_BK"
      }
    },
    {
      "cell_type": "markdown",
      "source": [
        "### Objectives\n",
        "At the end of this activity you will be able to:\n",
        "1. Be familiar with representing linear combinations in the 2-dimensional plane.\n",
        "2. Visualize spans using vector fields in Python.\n",
        "3. Perform vector fields operations using scientific programming."
      ],
      "metadata": {
        "id": "SBcO0SvSPCHf"
      }
    },
    {
      "cell_type": "markdown",
      "source": [
        "## Discussion"
      ],
      "metadata": {
        "id": "QJTi5YC6PEqs"
      }
    },
    {
      "cell_type": "code",
      "source": [
        "import numpy as np\n",
        "import matplotlib.pyplot as plt\n",
        "%matplotlib inline"
      ],
      "metadata": {
        "id": "AWQxbLaoPFD_"
      },
      "execution_count": null,
      "outputs": []
    },
    {
      "cell_type": "markdown",
      "source": [
        "## Linear Combination"
      ],
      "metadata": {
        "id": "1Af5Rtl5PGTv"
      }
    },
    {
      "cell_type": "markdown",
      "source": [
        "A linear combination is defined as the addition of a vector's bases/components and its linear scaling."
      ],
      "metadata": {
        "id": "JgbjemQRPJTN"
      }
    },
    {
      "cell_type": "markdown",
      "source": [
        "By charting a sample of real number values for the scalars for the vectors, we will attempt to visualize the vectors and their linear combinations. Let's start with the following vectors:"
      ],
      "metadata": {
        "id": "CmhJDVNWPLCm"
      }
    },
    {
      "cell_type": "markdown",
      "source": [
        "$$A = \\begin{bmatrix} 7\\\\16 \\\\\\end{bmatrix} , P = \\begin{bmatrix} 30\\\\5 \\\\\\end{bmatrix} $$"
      ],
      "metadata": {
        "id": "Bb-WHtHxPMO_"
      }
    },
    {
      "cell_type": "code",
      "source": [
        "vectA =  np.array([7,16])\n",
        "vectP =  np.array([30,5])\n",
        "vectA"
      ],
      "metadata": {
        "colab": {
          "base_uri": "https://localhost:8080/"
        },
        "id": "YG-pJ_abPTUf",
        "outputId": "d8eebf3f-1785-4938-f2ca-6c427960470c"
      },
      "execution_count": null,
      "outputs": [
        {
          "output_type": "execute_result",
          "data": {
            "text/plain": [
              "array([ 7, 16])"
            ]
          },
          "metadata": {},
          "execution_count": 4
        }
      ]
    },
    {
      "cell_type": "markdown",
      "source": [
        "#### Span of single vectors"
      ],
      "metadata": {
        "id": "R_KA2hNsPZwz"
      }
    },
    {
      "cell_type": "markdown",
      "source": [
        "A line span can be used to represent the span of individual vectors, as mentioned in the lecture. As an example, consider the vector $A$."
      ],
      "metadata": {
        "id": "zUPVZKAmPePY"
      }
    },
    {
      "cell_type": "markdown",
      "source": [
        "$$A = c\\cdot \\begin{bmatrix} 7\\\\14 \\\\\\end{bmatrix} $$"
      ],
      "metadata": {
        "id": "CzpNS88EPgP1"
      }
    },
    {
      "cell_type": "code",
      "source": [
        "c = np.arange(-16,5,0.25)\n",
        "\n",
        "plt.scatter(c*vectA[0],c*vectA[1])\n",
        "\n",
        "plt.xlim(-16,16)\n",
        "plt.ylim(-16,16)\n",
        "plt.axhline(y=0, color='k')\n",
        "plt.axvline(x=0, color='k')\n",
        "plt.grid()\n",
        "plt.show()"
      ],
      "metadata": {
        "colab": {
          "base_uri": "https://localhost:8080/",
          "height": 265
        },
        "id": "gk2NES-1PtEC",
        "outputId": "eabf5b0c-7cd9-46f1-8a2b-ef3bae58a1b4"
      },
      "execution_count": null,
      "outputs": [
        {
          "output_type": "display_data",
          "data": {
            "text/plain": [
              "<Figure size 432x288 with 1 Axes>"
            ],
            "image/png": "[encoded data removed]"
          },
          "metadata": {
            "needs_background": "light"
          }
        }
      ]
    },
    {
      "cell_type": "markdown",
      "source": [
        "$$P = c\\cdot \\begin{bmatrix} 16\\\\30 \\\\\\end{bmatrix} $$"
      ],
      "metadata": {
        "id": "KML3pY5VQOiW"
      }
    },
    {
      "cell_type": "code",
      "source": [
        "c = np.arange(-1,7,0.375)\n",
        "\n",
        "plt.scatter(c*vectP[0],c*vectP[1])\n",
        "\n",
        "plt.xlim(-20,20)\n",
        "plt.ylim(-20,20)\n",
        "plt.axhline(y=0, color='k')\n",
        "plt.axvline(x=0, color='k')\n",
        "plt.grid()\n",
        "plt.show()"
      ],
      "metadata": {
        "colab": {
          "base_uri": "https://localhost:8080/",
          "height": 269
        },
        "id": "bp2ameCjQVs3",
        "outputId": "847e9efe-4060-438f-bfd8-ce79de04e495"
      },
      "execution_count": null,
      "outputs": [
        {
          "output_type": "display_data",
          "data": {
            "text/plain": [
              "<Figure size 432x288 with 1 Axes>"
            ],
            "image/png": "[encoded data removed]"
          },
          "metadata": {
            "needs_background": "light"
          }
        }
      ]
    },
    {
      "cell_type": "markdown",
      "source": [
        "### Span of a linear combination of vectors"
      ],
      "metadata": {
        "id": "fi7DZlkZQdMy"
      }
    },
    {
      "cell_type": "markdown",
      "source": [
        "So, what if we wanted to plot the span of a linear vector combination? On a two-dimensional coordinate system, we can represent it as a plane. Consider the following linear combination's span:"
      ],
      "metadata": {
        "id": "ffBj_95DQeqi"
      }
    },
    {
      "cell_type": "markdown",
      "source": [
        "$$A = \\begin{Bmatrix} c_1 \\cdot\\begin{bmatrix} 4\\\\2 \\\\\\end{bmatrix}, \n",
        "c_2 \\cdot \\begin{bmatrix} 6\\\\-5 \\\\\\end{bmatrix}\\end{Bmatrix} $$"
      ],
      "metadata": {
        "id": "dOdXhPwRQf-F"
      }
    },
    {
      "cell_type": "code",
      "source": [
        "vectA = np.array([7,1])\n",
        "vectP = np.array([5,-16])\n",
        "\n",
        "R = np.arange(-15,15,2)\n",
        "\n",
        "c1, c2 = np.meshgrid(R,R)\n",
        "\n",
        "vectR = vectA + vectP\n",
        "spanRx = c1*vectA[0] + c2*vectP[0]\n",
        "spanRy = c1*vectA[1] + c2*vectP[1]\n",
        "plt.scatter(R*vectA[0],R*vectA[1])\n",
        "plt.scatter(R*vectP[0],R*vectP[1])\n",
        "plt.scatter(spanRx,spanRy, s=5, alpha=0.75)\n",
        "\n",
        "plt.axhline(y=0, color='k')\n",
        "plt.axvline(x=0, color='k')\n",
        "plt.grid()\n",
        "plt.show()"
      ],
      "metadata": {
        "colab": {
          "base_uri": "https://localhost:8080/",
          "height": 265
        },
        "id": "A6jLP1ODQhqK",
        "outputId": "05e480d3-591b-47aa-c015-741dd1f88cc2"
      },
      "execution_count": null,
      "outputs": [
        {
          "output_type": "display_data",
          "data": {
            "text/plain": [
              "<Figure size 432x288 with 1 Axes>"
            ],
            "image/png": "[encoded data removed]"
          },
          "metadata": {
            "needs_background": "light"
          }
        }
      ]
    },
    {
      "cell_type": "markdown",
      "source": [
        "$$B = \\begin{Bmatrix} c_1 \\cdot\\begin{bmatrix} 9\\\\4 \\\\\\end{bmatrix}, \n",
        "c_2 \\cdot \\begin{bmatrix} -5\\\\-7 \\\\\\end{bmatrix}\\end{Bmatrix} $$"
      ],
      "metadata": {
        "id": "i_XRDZweQv5g"
      }
    },
    {
      "cell_type": "code",
      "source": [
        "vectO = np.array([7,-4])\n",
        "vectR = np.array([-5,-7])\n",
        "\n",
        "R = np.arange(-13,15,1)\n",
        "\n",
        "c1, c2 = np.meshgrid(R,R)\n",
        "\n",
        "vectR = vectO + vectR\n",
        "spanRx = c1*vectO[0] + c2*vectR[0]\n",
        "spanRy = c1*vectO[1] + c2*vectR[1]\n",
        "##plt.scatter(R*vectA[0],R*vectA[1])\n",
        "##plt.scatter(R*vectB[0],R*vectB[1])\n",
        "plt.scatter(spanRx,spanRy, s=5, alpha=0.75)\n",
        "\n",
        "plt.axhline(y=0, color='k')\n",
        "plt.axvline(x=0, color='k')\n",
        "plt.grid()\n",
        "plt.show()"
      ],
      "metadata": {
        "colab": {
          "base_uri": "https://localhost:8080/",
          "height": 265
        },
        "id": "FlTRYS1CQxBd",
        "outputId": "224f9d44-227d-4318-9cac-a9c584673114"
      },
      "execution_count": null,
      "outputs": [
        {
          "output_type": "display_data",
          "data": {
            "text/plain": [
              "<Figure size 432x288 with 1 Axes>"
            ],
            "image/png": "[encoded data removed]"
          },
          "metadata": {
            "needs_background": "light"
          }
        }
      ]
    },
    {
      "cell_type": "markdown",
      "source": [
        "Take note that if vectors are seen to be as a 2-dimensional span we can say it has a Rank of 2 or $\\mathbb{R}^2$. But if the span of the linear combination of vectors are seen to be like a line, they are said to be <b> linearly dependent </b> and they have a rank of 1 or $\\mathbb{R}^1$."
      ],
      "metadata": {
        "id": "e9HD_oAuRAE2"
      }
    },
    {
      "cell_type": "markdown",
      "source": [
        "# Activity"
      ],
      "metadata": {
        "id": "cFF6EEBWRBml"
      }
    },
    {
      "cell_type": "markdown",
      "source": [
        "### Task 1"
      ],
      "metadata": {
        "id": "q3xGzAMMRDRt"
      }
    },
    {
      "cell_type": "markdown",
      "source": [
        "## LaTeX Format Equation"
      ],
      "metadata": {
        "id": "fBk0xP_SREeq"
      }
    },
    {
      "cell_type": "markdown",
      "source": [
        "## LaTeX Form:\n",
        "\n",
        "$$A = \\begin{Bmatrix} A \\cdot\\begin{bmatrix} 5\\\\2 \\\\\\end{bmatrix}, \n",
        "B \\cdot \\begin{bmatrix} 7\\\\16 \\\\\\end{bmatrix}\\end{Bmatrix} $$\n",
        "$$\n",
        "X = \\begin{array}\\\n",
        "        5x + 2y \\\\ \n",
        "    \\end{array}\n",
        "$$\n",
        "$$\n",
        "Y = \\begin{array}\\\n",
        "        7x + 16y \\\\ \n",
        "    \\end{array}\n",
        "$$"
      ],
      "metadata": {
        "id": "JKRxXM9IRHMh"
      }
    },
    {
      "cell_type": "code",
      "source": [
        "X = np.array([5,2])\n",
        "Y = np.array([7,16])\n",
        "#Y= np.array([-1,-3])\n",
        "\n",
        "Z = np.arange(-16,16,1)\n",
        "\n",
        "A, B = np.meshgrid(Z,Z)\n",
        "                    \n",
        "vectZ = X + Y\n",
        "spanZx = A*X[0] + B*Y[0]\n",
        "spanZy = A*X[1] + B*Y[1]\n",
        "plt.scatter(Z*X[0],Z*Y[1])\n",
        "plt.scatter(Z*X[0],Z*Y[1])\n",
        "plt.scatter(spanZx,spanZy, s=0.5, alpha=0.5)\n",
        "plt.axhline(y=0, color='k')\n",
        "plt.axvline(x=0, color='k')\n",
        "plt.grid()\n",
        "plt.show()"
      ],
      "metadata": {
        "colab": {
          "base_uri": "https://localhost:8080/",
          "height": 265
        },
        "id": "qehEEBRfRJ3U",
        "outputId": "78059acc-dd5d-4a42-9055-5cca443f29dc"
      },
      "execution_count": null,
      "outputs": [
        {
          "output_type": "display_data",
          "data": {
            "text/plain": [
              "<Figure size 432x288 with 1 Axes>"
            ],
            "image/png": "[encoded data removed]"
          },
          "metadata": {
            "needs_background": "light"
          }
        }
      ]
    }
  ]
}